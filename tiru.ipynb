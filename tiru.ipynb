{
 "cells": [
  {
   "cell_type": "code",
   "execution_count": 3,
   "metadata": {},
   "outputs": [],
   "source": [
    "import requests\n",
    "import datetime\n",
    "import pandas as pd"
   ]
  },
  {
   "cell_type": "code",
   "execution_count": 4,
   "metadata": {},
   "outputs": [],
   "source": [
    "def get_weather_data(api_key, city, date_time):\n",
    "    base_url = \"http://api.openweathermap.org/data/2.5/weather\"\n",
    "    params = {\n",
    "        \"q\": city,\n",
    "        \"appid\": api_key,\n",
    "        \"dt\": int(date_time.timestamp())  # Convert the datetime to UNIX timestamp\n",
    "    }\n",
    "\n",
    "    response = requests.get(base_url, params=params)\n",
    "\n",
    "    if response.status_code == 200:\n",
    "        data = response.json()\n",
    "        return data\n",
    "    else:\n",
    "        print(f\"Error in the request: {response.status_code}\")\n",
    "        return None"
   ]
  },
  {
   "cell_type": "code",
   "execution_count": 5,
   "metadata": {},
   "outputs": [],
   "source": [
    "# Replace \"YOUR_API_KEY\" with your OpenWeatherMap API key\n",
    "api_key = \"fa21783c20d87aa29a921bf628b0380f\"\n",
    "\n",
    "# Specify the city and the date range for which you want to get the weather data\n",
    "city = \"Trani\"\n",
    "start_date = datetime.datetime(2018, 8, 1)\n",
    "end_date = datetime.datetime(2019, 8, 1)\n",
    "\n",
    "# Create an empty list to store the weather data for each date\n",
    "weather_data_list = []"
   ]
  },
  {
   "cell_type": "code",
   "execution_count": 6,
   "metadata": {},
   "outputs": [
    {
     "name": "stdout",
     "output_type": "stream",
     "text": [
      "Data saved to weather_data.csv\n"
     ]
    }
   ],
   "source": [
    "# Loop through the date range and fetch weather data for each date\n",
    "current_date = start_date\n",
    "while current_date <= end_date:\n",
    "    weather_data = get_weather_data(api_key, city, current_date)\n",
    "    if weather_data:\n",
    "        weather_data_list.append(weather_data)\n",
    "    current_date += datetime.timedelta(days=1)\n",
    "\n",
    "# Check if there is any data and then save it to a CSV file\n",
    "if weather_data_list:\n",
    "    # Convert the list of dictionaries into a pandas DataFrame\n",
    "    df = pd.DataFrame(weather_data_list)\n",
    "\n",
    "    # Specify the file name\n",
    "    file_name = 'weather_data.csv'\n",
    "\n",
    "    # Save data into CSV file\n",
    "    df.to_csv(file_name, index=False)\n",
    "\n",
    "    print(f'Data saved to {file_name}')"
   ]
  }
 ],
 "metadata": {
  "kernelspec": {
   "display_name": "pytorch-grad-cam-master",
   "language": "python",
   "name": "python3"
  },
  "language_info": {
   "codemirror_mode": {
    "name": "ipython",
    "version": 3
   },
   "file_extension": ".py",
   "mimetype": "text/x-python",
   "name": "python",
   "nbconvert_exporter": "python",
   "pygments_lexer": "ipython3",
   "version": "3.9.16"
  },
  "orig_nbformat": 4
 },
 "nbformat": 4,
 "nbformat_minor": 2
}
