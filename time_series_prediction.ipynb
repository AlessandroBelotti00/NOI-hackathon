{
  "nbformat": 4,
  "nbformat_minor": 0,
  "metadata": {
    "colab": {
      "provenance": []
    },
    "kernelspec": {
      "name": "python3",
      "display_name": "Python 3"
    },
    "language_info": {
      "name": "python"
    },
    "accelerator": "GPU",
    "gpuClass": "standard"
  },
  "cells": [
    {
      "cell_type": "markdown",
      "source": [
        "# **Foundations of Deep Learning - E05**<br/>\n",
        "**Master's Degree in Data Science (A.Y. 2022/2023)**<br/>\n",
        "**University of Milano - Bicocca**<br/>\n",
        "\n",
        "prof. Paolo Napoletano, \n",
        "dr. Marco Buzzelli"
      ],
      "metadata": {
        "id": "qIsvLEim6AIT"
      }
    },
    {
      "cell_type": "markdown",
      "source": [
        "**Outline:**\n",
        "* We will define a **Recurrent Neural Network** (RNN) to forecast the weather\n",
        "  * We will use a **Long Short-Term Memory** (LSTM) module\n",
        "  * We will predict the temperature at time `t`, given some history of temperature and other readings\n",
        "* An important aspect will be arranging the data for the data loader"
      ],
      "metadata": {
        "id": "eFJuFF1geLTt"
      }
    },
    {
      "cell_type": "markdown",
      "source": [
        "**Before running any command:**\n",
        "* Runtime -> Change runtime type -> Hardware accelerator: GPU"
      ],
      "metadata": {
        "id": "XNynU-Ib6JZP"
      }
    },
    {
      "cell_type": "code",
      "source": [
        "from google.colab import drive\n",
        "from shutil import copyfile\n",
        "import pandas as pd\n",
        "from matplotlib import pyplot as plt\n",
        "from tensorflow import keras"
      ],
      "metadata": {
        "id": "oKtGWLf57_Ru"
      },
      "execution_count": 1,
      "outputs": []
    },
    {
      "cell_type": "markdown",
      "source": [
        "# Import and analyze data"
      ],
      "metadata": {
        "id": "QUIj1nTVBHax"
      }
    },
    {
      "cell_type": "markdown",
      "source": [
        "**Note:**\n",
        "* Before continuing, you must import this file into your own Google Drive:<br/>\n",
        "https://drive.google.com/file/d/1g5q57gxyxBASrb2weYYo7q97VPtB1DKO/view?usp=sharing<br/>\n",
        "(Top-right corner -> Add shortcut to Drive -> My Drive -> Add shortcut here)\n",
        "* If the link no longer works, you can retrieve the original dataset from:<br/>\n",
        "https://storage.googleapis.com/tensorflow/tf-keras-datasets/jena_climate_2009_2016.csv.zip"
      ],
      "metadata": {
        "id": "AG4GhNVeXhfe"
      }
    },
    {
      "cell_type": "code",
      "source": [
        "# Link Google Drive account and download csv dataset\n",
        "drive.mount('/content/gdrive')\n",
        "copyfile('gdrive/My Drive/climate.csv', 'climate.csv')"
      ],
      "metadata": {
        "colab": {
          "base_uri": "https://localhost:8080/",
          "height": 53
        },
        "id": "TJEW1Fal673X",
        "outputId": "ff4a539c-8b74-4606-aa3c-305cc60fb35b"
      },
      "execution_count": 2,
      "outputs": [
        {
          "output_type": "stream",
          "name": "stdout",
          "text": [
            "Mounted at /content/gdrive\n"
          ]
        },
        {
          "output_type": "execute_result",
          "data": {
            "text/plain": [
              "'climate.csv'"
            ],
            "application/vnd.google.colaboratory.intrinsic+json": {
              "type": "string"
            }
          },
          "metadata": {},
          "execution_count": 2
        }
      ]
    },
    {
      "cell_type": "code",
      "source": [
        "# Import csv dataset\n",
        "df_climate = pd.read_csv('climate.csv')\n",
        "df_climate"
      ],
      "metadata": {
        "colab": {
          "base_uri": "https://localhost:8080/",
          "height": 424
        },
        "id": "gPyoVFsx74cL",
        "outputId": "4540b0e8-0330-402d-aff3-a75ddeac0b7e"
      },
      "execution_count": 3,
      "outputs": [
        {
          "output_type": "execute_result",
          "data": {
            "text/plain": [
              "                  Date Time  p (mbar)  T (degC)  Tpot (K)  Tdew (degC)  \\\n",
              "0       01.01.2009 00:10:00    996.52     -8.02    265.40        -8.90   \n",
              "1       01.01.2009 00:20:00    996.57     -8.41    265.01        -9.28   \n",
              "2       01.01.2009 00:30:00    996.53     -8.51    264.91        -9.31   \n",
              "3       01.01.2009 00:40:00    996.51     -8.31    265.12        -9.07   \n",
              "4       01.01.2009 00:50:00    996.51     -8.27    265.15        -9.04   \n",
              "...                     ...       ...       ...       ...          ...   \n",
              "420546  31.12.2016 23:20:00   1000.07     -4.05    269.10        -8.13   \n",
              "420547  31.12.2016 23:30:00    999.93     -3.35    269.81        -8.06   \n",
              "420548  31.12.2016 23:40:00    999.82     -3.16    270.01        -8.21   \n",
              "420549  31.12.2016 23:50:00    999.81     -4.23    268.94        -8.53   \n",
              "420550  01.01.2017 00:00:00    999.82     -4.82    268.36        -8.42   \n",
              "\n",
              "        rh (%)  VPmax (mbar)  VPact (mbar)  VPdef (mbar)  sh (g/kg)  \\\n",
              "0        93.30          3.33          3.11          0.22       1.94   \n",
              "1        93.40          3.23          3.02          0.21       1.89   \n",
              "2        93.90          3.21          3.01          0.20       1.88   \n",
              "3        94.20          3.26          3.07          0.19       1.92   \n",
              "4        94.10          3.27          3.08          0.19       1.92   \n",
              "...        ...           ...           ...           ...        ...   \n",
              "420546   73.10          4.52          3.30          1.22       2.06   \n",
              "420547   69.71          4.77          3.32          1.44       2.07   \n",
              "420548   67.91          4.84          3.28          1.55       2.05   \n",
              "420549   71.80          4.46          3.20          1.26       1.99   \n",
              "420550   75.70          4.27          3.23          1.04       2.01   \n",
              "\n",
              "        H2OC (mmol/mol)  rho (g/m**3)  wv (m/s)  max. wv (m/s)  wd (deg)  \n",
              "0                  3.12       1307.75      1.03           1.75     152.3  \n",
              "1                  3.03       1309.80      0.72           1.50     136.1  \n",
              "2                  3.02       1310.24      0.19           0.63     171.6  \n",
              "3                  3.08       1309.19      0.34           0.50     198.0  \n",
              "4                  3.09       1309.00      0.32           0.63     214.3  \n",
              "...                 ...           ...       ...            ...       ...  \n",
              "420546             3.30       1292.98      0.67           1.52     240.0  \n",
              "420547             3.32       1289.44      1.14           1.92     234.3  \n",
              "420548             3.28       1288.39      1.08           2.00     215.2  \n",
              "420549             3.20       1293.56      1.49           2.16     225.8  \n",
              "420550             3.23       1296.38      1.23           1.96     184.9  \n",
              "\n",
              "[420551 rows x 15 columns]"
            ],
            "text/html": [
              "\n",
              "  <div id=\"df-b774af08-3b5f-4637-8254-410609914dfa\">\n",
              "    <div class=\"colab-df-container\">\n",
              "      <div>\n",
              "<style scoped>\n",
              "    .dataframe tbody tr th:only-of-type {\n",
              "        vertical-align: middle;\n",
              "    }\n",
              "\n",
              "    .dataframe tbody tr th {\n",
              "        vertical-align: top;\n",
              "    }\n",
              "\n",
              "    .dataframe thead th {\n",
              "        text-align: right;\n",
              "    }\n",
              "</style>\n",
              "<table border=\"1\" class=\"dataframe\">\n",
              "  <thead>\n",
              "    <tr style=\"text-align: right;\">\n",
              "      <th></th>\n",
              "      <th>Date Time</th>\n",
              "      <th>p (mbar)</th>\n",
              "      <th>T (degC)</th>\n",
              "      <th>Tpot (K)</th>\n",
              "      <th>Tdew (degC)</th>\n",
              "      <th>rh (%)</th>\n",
              "      <th>VPmax (mbar)</th>\n",
              "      <th>VPact (mbar)</th>\n",
              "      <th>VPdef (mbar)</th>\n",
              "      <th>sh (g/kg)</th>\n",
              "      <th>H2OC (mmol/mol)</th>\n",
              "      <th>rho (g/m**3)</th>\n",
              "      <th>wv (m/s)</th>\n",
              "      <th>max. wv (m/s)</th>\n",
              "      <th>wd (deg)</th>\n",
              "    </tr>\n",
              "  </thead>\n",
              "  <tbody>\n",
              "    <tr>\n",
              "      <th>0</th>\n",
              "      <td>01.01.2009 00:10:00</td>\n",
              "      <td>996.52</td>\n",
              "      <td>-8.02</td>\n",
              "      <td>265.40</td>\n",
              "      <td>-8.90</td>\n",
              "      <td>93.30</td>\n",
              "      <td>3.33</td>\n",
              "      <td>3.11</td>\n",
              "      <td>0.22</td>\n",
              "      <td>1.94</td>\n",
              "      <td>3.12</td>\n",
              "      <td>1307.75</td>\n",
              "      <td>1.03</td>\n",
              "      <td>1.75</td>\n",
              "      <td>152.3</td>\n",
              "    </tr>\n",
              "    <tr>\n",
              "      <th>1</th>\n",
              "      <td>01.01.2009 00:20:00</td>\n",
              "      <td>996.57</td>\n",
              "      <td>-8.41</td>\n",
              "      <td>265.01</td>\n",
              "      <td>-9.28</td>\n",
              "      <td>93.40</td>\n",
              "      <td>3.23</td>\n",
              "      <td>3.02</td>\n",
              "      <td>0.21</td>\n",
              "      <td>1.89</td>\n",
              "      <td>3.03</td>\n",
              "      <td>1309.80</td>\n",
              "      <td>0.72</td>\n",
              "      <td>1.50</td>\n",
              "      <td>136.1</td>\n",
              "    </tr>\n",
              "    <tr>\n",
              "      <th>2</th>\n",
              "      <td>01.01.2009 00:30:00</td>\n",
              "      <td>996.53</td>\n",
              "      <td>-8.51</td>\n",
              "      <td>264.91</td>\n",
              "      <td>-9.31</td>\n",
              "      <td>93.90</td>\n",
              "      <td>3.21</td>\n",
              "      <td>3.01</td>\n",
              "      <td>0.20</td>\n",
              "      <td>1.88</td>\n",
              "      <td>3.02</td>\n",
              "      <td>1310.24</td>\n",
              "      <td>0.19</td>\n",
              "      <td>0.63</td>\n",
              "      <td>171.6</td>\n",
              "    </tr>\n",
              "    <tr>\n",
              "      <th>3</th>\n",
              "      <td>01.01.2009 00:40:00</td>\n",
              "      <td>996.51</td>\n",
              "      <td>-8.31</td>\n",
              "      <td>265.12</td>\n",
              "      <td>-9.07</td>\n",
              "      <td>94.20</td>\n",
              "      <td>3.26</td>\n",
              "      <td>3.07</td>\n",
              "      <td>0.19</td>\n",
              "      <td>1.92</td>\n",
              "      <td>3.08</td>\n",
              "      <td>1309.19</td>\n",
              "      <td>0.34</td>\n",
              "      <td>0.50</td>\n",
              "      <td>198.0</td>\n",
              "    </tr>\n",
              "    <tr>\n",
              "      <th>4</th>\n",
              "      <td>01.01.2009 00:50:00</td>\n",
              "      <td>996.51</td>\n",
              "      <td>-8.27</td>\n",
              "      <td>265.15</td>\n",
              "      <td>-9.04</td>\n",
              "      <td>94.10</td>\n",
              "      <td>3.27</td>\n",
              "      <td>3.08</td>\n",
              "      <td>0.19</td>\n",
              "      <td>1.92</td>\n",
              "      <td>3.09</td>\n",
              "      <td>1309.00</td>\n",
              "      <td>0.32</td>\n",
              "      <td>0.63</td>\n",
              "      <td>214.3</td>\n",
              "    </tr>\n",
              "    <tr>\n",
              "      <th>...</th>\n",
              "      <td>...</td>\n",
              "      <td>...</td>\n",
              "      <td>...</td>\n",
              "      <td>...</td>\n",
              "      <td>...</td>\n",
              "      <td>...</td>\n",
              "      <td>...</td>\n",
              "      <td>...</td>\n",
              "      <td>...</td>\n",
              "      <td>...</td>\n",
              "      <td>...</td>\n",
              "      <td>...</td>\n",
              "      <td>...</td>\n",
              "      <td>...</td>\n",
              "      <td>...</td>\n",
              "    </tr>\n",
              "    <tr>\n",
              "      <th>420546</th>\n",
              "      <td>31.12.2016 23:20:00</td>\n",
              "      <td>1000.07</td>\n",
              "      <td>-4.05</td>\n",
              "      <td>269.10</td>\n",
              "      <td>-8.13</td>\n",
              "      <td>73.10</td>\n",
              "      <td>4.52</td>\n",
              "      <td>3.30</td>\n",
              "      <td>1.22</td>\n",
              "      <td>2.06</td>\n",
              "      <td>3.30</td>\n",
              "      <td>1292.98</td>\n",
              "      <td>0.67</td>\n",
              "      <td>1.52</td>\n",
              "      <td>240.0</td>\n",
              "    </tr>\n",
              "    <tr>\n",
              "      <th>420547</th>\n",
              "      <td>31.12.2016 23:30:00</td>\n",
              "      <td>999.93</td>\n",
              "      <td>-3.35</td>\n",
              "      <td>269.81</td>\n",
              "      <td>-8.06</td>\n",
              "      <td>69.71</td>\n",
              "      <td>4.77</td>\n",
              "      <td>3.32</td>\n",
              "      <td>1.44</td>\n",
              "      <td>2.07</td>\n",
              "      <td>3.32</td>\n",
              "      <td>1289.44</td>\n",
              "      <td>1.14</td>\n",
              "      <td>1.92</td>\n",
              "      <td>234.3</td>\n",
              "    </tr>\n",
              "    <tr>\n",
              "      <th>420548</th>\n",
              "      <td>31.12.2016 23:40:00</td>\n",
              "      <td>999.82</td>\n",
              "      <td>-3.16</td>\n",
              "      <td>270.01</td>\n",
              "      <td>-8.21</td>\n",
              "      <td>67.91</td>\n",
              "      <td>4.84</td>\n",
              "      <td>3.28</td>\n",
              "      <td>1.55</td>\n",
              "      <td>2.05</td>\n",
              "      <td>3.28</td>\n",
              "      <td>1288.39</td>\n",
              "      <td>1.08</td>\n",
              "      <td>2.00</td>\n",
              "      <td>215.2</td>\n",
              "    </tr>\n",
              "    <tr>\n",
              "      <th>420549</th>\n",
              "      <td>31.12.2016 23:50:00</td>\n",
              "      <td>999.81</td>\n",
              "      <td>-4.23</td>\n",
              "      <td>268.94</td>\n",
              "      <td>-8.53</td>\n",
              "      <td>71.80</td>\n",
              "      <td>4.46</td>\n",
              "      <td>3.20</td>\n",
              "      <td>1.26</td>\n",
              "      <td>1.99</td>\n",
              "      <td>3.20</td>\n",
              "      <td>1293.56</td>\n",
              "      <td>1.49</td>\n",
              "      <td>2.16</td>\n",
              "      <td>225.8</td>\n",
              "    </tr>\n",
              "    <tr>\n",
              "      <th>420550</th>\n",
              "      <td>01.01.2017 00:00:00</td>\n",
              "      <td>999.82</td>\n",
              "      <td>-4.82</td>\n",
              "      <td>268.36</td>\n",
              "      <td>-8.42</td>\n",
              "      <td>75.70</td>\n",
              "      <td>4.27</td>\n",
              "      <td>3.23</td>\n",
              "      <td>1.04</td>\n",
              "      <td>2.01</td>\n",
              "      <td>3.23</td>\n",
              "      <td>1296.38</td>\n",
              "      <td>1.23</td>\n",
              "      <td>1.96</td>\n",
              "      <td>184.9</td>\n",
              "    </tr>\n",
              "  </tbody>\n",
              "</table>\n",
              "<p>420551 rows × 15 columns</p>\n",
              "</div>\n",
              "      <button class=\"colab-df-convert\" onclick=\"convertToInteractive('df-b774af08-3b5f-4637-8254-410609914dfa')\"\n",
              "              title=\"Convert this dataframe to an interactive table.\"\n",
              "              style=\"display:none;\">\n",
              "        \n",
              "  <svg xmlns=\"http://www.w3.org/2000/svg\" height=\"24px\"viewBox=\"0 0 24 24\"\n",
              "       width=\"24px\">\n",
              "    <path d=\"M0 0h24v24H0V0z\" fill=\"none\"/>\n",
              "    <path d=\"M18.56 5.44l.94 2.06.94-2.06 2.06-.94-2.06-.94-.94-2.06-.94 2.06-2.06.94zm-11 1L8.5 8.5l.94-2.06 2.06-.94-2.06-.94L8.5 2.5l-.94 2.06-2.06.94zm10 10l.94 2.06.94-2.06 2.06-.94-2.06-.94-.94-2.06-.94 2.06-2.06.94z\"/><path d=\"M17.41 7.96l-1.37-1.37c-.4-.4-.92-.59-1.43-.59-.52 0-1.04.2-1.43.59L10.3 9.45l-7.72 7.72c-.78.78-.78 2.05 0 2.83L4 21.41c.39.39.9.59 1.41.59.51 0 1.02-.2 1.41-.59l7.78-7.78 2.81-2.81c.8-.78.8-2.07 0-2.86zM5.41 20L4 18.59l7.72-7.72 1.47 1.35L5.41 20z\"/>\n",
              "  </svg>\n",
              "      </button>\n",
              "      \n",
              "  <style>\n",
              "    .colab-df-container {\n",
              "      display:flex;\n",
              "      flex-wrap:wrap;\n",
              "      gap: 12px;\n",
              "    }\n",
              "\n",
              "    .colab-df-convert {\n",
              "      background-color: #E8F0FE;\n",
              "      border: none;\n",
              "      border-radius: 50%;\n",
              "      cursor: pointer;\n",
              "      display: none;\n",
              "      fill: #1967D2;\n",
              "      height: 32px;\n",
              "      padding: 0 0 0 0;\n",
              "      width: 32px;\n",
              "    }\n",
              "\n",
              "    .colab-df-convert:hover {\n",
              "      background-color: #E2EBFA;\n",
              "      box-shadow: 0px 1px 2px rgba(60, 64, 67, 0.3), 0px 1px 3px 1px rgba(60, 64, 67, 0.15);\n",
              "      fill: #174EA6;\n",
              "    }\n",
              "\n",
              "    [theme=dark] .colab-df-convert {\n",
              "      background-color: #3B4455;\n",
              "      fill: #D2E3FC;\n",
              "    }\n",
              "\n",
              "    [theme=dark] .colab-df-convert:hover {\n",
              "      background-color: #434B5C;\n",
              "      box-shadow: 0px 1px 3px 1px rgba(0, 0, 0, 0.15);\n",
              "      filter: drop-shadow(0px 1px 2px rgba(0, 0, 0, 0.3));\n",
              "      fill: #FFFFFF;\n",
              "    }\n",
              "  </style>\n",
              "\n",
              "      <script>\n",
              "        const buttonEl =\n",
              "          document.querySelector('#df-b774af08-3b5f-4637-8254-410609914dfa button.colab-df-convert');\n",
              "        buttonEl.style.display =\n",
              "          google.colab.kernel.accessAllowed ? 'block' : 'none';\n",
              "\n",
              "        async function convertToInteractive(key) {\n",
              "          const element = document.querySelector('#df-b774af08-3b5f-4637-8254-410609914dfa');\n",
              "          const dataTable =\n",
              "            await google.colab.kernel.invokeFunction('convertToInteractive',\n",
              "                                                     [key], {});\n",
              "          if (!dataTable) return;\n",
              "\n",
              "          const docLinkHtml = 'Like what you see? Visit the ' +\n",
              "            '<a target=\"_blank\" href=https://colab.research.google.com/notebooks/data_table.ipynb>data table notebook</a>'\n",
              "            + ' to learn more about interactive tables.';\n",
              "          element.innerHTML = '';\n",
              "          dataTable['output_type'] = 'display_data';\n",
              "          await google.colab.output.renderOutput(dataTable, element);\n",
              "          const docLink = document.createElement('div');\n",
              "          docLink.innerHTML = docLinkHtml;\n",
              "          element.appendChild(docLink);\n",
              "        }\n",
              "      </script>\n",
              "    </div>\n",
              "  </div>\n",
              "  "
            ]
          },
          "metadata": {},
          "execution_count": 3
        }
      ]
    },
    {
      "cell_type": "markdown",
      "source": [
        "**Note**:\n",
        "* We are dealing with data that can be summarized as a table (as in E03)\n",
        "* However, now we have an explicit time dependency:\n",
        "  * Every row does not correspond to an independent observation, but to a specific timestamp.\n",
        "  * Let's indicate the time column as the index for our dataframe."
      ],
      "metadata": {
        "id": "dM2zjpwLNr8C"
      }
    },
    {
      "cell_type": "markdown",
      "source": [
        "https://pandas.pydata.org/docs/reference/api/pandas.DataFrame.index.html"
      ],
      "metadata": {
        "id": "FPH9KEomOx5i"
      }
    },
    {
      "cell_type": "code",
      "source": [
        "# Change dataframe index to the time information\n",
        "df_climate.index = df_climate['Date Time']\n",
        "df_climate = df_climate.drop('Date Time', axis=1)\n",
        "df_climate"
      ],
      "metadata": {
        "colab": {
          "base_uri": "https://localhost:8080/",
          "height": 455
        },
        "id": "fb6lwnZLECzn",
        "outputId": "2c990a6b-614c-4994-f4cd-d395f49802cd"
      },
      "execution_count": 4,
      "outputs": [
        {
          "output_type": "execute_result",
          "data": {
            "text/plain": [
              "                     p (mbar)  T (degC)  Tpot (K)  Tdew (degC)  rh (%)  \\\n",
              "Date Time                                                                \n",
              "01.01.2009 00:10:00    996.52     -8.02    265.40        -8.90   93.30   \n",
              "01.01.2009 00:20:00    996.57     -8.41    265.01        -9.28   93.40   \n",
              "01.01.2009 00:30:00    996.53     -8.51    264.91        -9.31   93.90   \n",
              "01.01.2009 00:40:00    996.51     -8.31    265.12        -9.07   94.20   \n",
              "01.01.2009 00:50:00    996.51     -8.27    265.15        -9.04   94.10   \n",
              "...                       ...       ...       ...          ...     ...   \n",
              "31.12.2016 23:20:00   1000.07     -4.05    269.10        -8.13   73.10   \n",
              "31.12.2016 23:30:00    999.93     -3.35    269.81        -8.06   69.71   \n",
              "31.12.2016 23:40:00    999.82     -3.16    270.01        -8.21   67.91   \n",
              "31.12.2016 23:50:00    999.81     -4.23    268.94        -8.53   71.80   \n",
              "01.01.2017 00:00:00    999.82     -4.82    268.36        -8.42   75.70   \n",
              "\n",
              "                     VPmax (mbar)  VPact (mbar)  VPdef (mbar)  sh (g/kg)  \\\n",
              "Date Time                                                                  \n",
              "01.01.2009 00:10:00          3.33          3.11          0.22       1.94   \n",
              "01.01.2009 00:20:00          3.23          3.02          0.21       1.89   \n",
              "01.01.2009 00:30:00          3.21          3.01          0.20       1.88   \n",
              "01.01.2009 00:40:00          3.26          3.07          0.19       1.92   \n",
              "01.01.2009 00:50:00          3.27          3.08          0.19       1.92   \n",
              "...                           ...           ...           ...        ...   \n",
              "31.12.2016 23:20:00          4.52          3.30          1.22       2.06   \n",
              "31.12.2016 23:30:00          4.77          3.32          1.44       2.07   \n",
              "31.12.2016 23:40:00          4.84          3.28          1.55       2.05   \n",
              "31.12.2016 23:50:00          4.46          3.20          1.26       1.99   \n",
              "01.01.2017 00:00:00          4.27          3.23          1.04       2.01   \n",
              "\n",
              "                     H2OC (mmol/mol)  rho (g/m**3)  wv (m/s)  max. wv (m/s)  \\\n",
              "Date Time                                                                     \n",
              "01.01.2009 00:10:00             3.12       1307.75      1.03           1.75   \n",
              "01.01.2009 00:20:00             3.03       1309.80      0.72           1.50   \n",
              "01.01.2009 00:30:00             3.02       1310.24      0.19           0.63   \n",
              "01.01.2009 00:40:00             3.08       1309.19      0.34           0.50   \n",
              "01.01.2009 00:50:00             3.09       1309.00      0.32           0.63   \n",
              "...                              ...           ...       ...            ...   \n",
              "31.12.2016 23:20:00             3.30       1292.98      0.67           1.52   \n",
              "31.12.2016 23:30:00             3.32       1289.44      1.14           1.92   \n",
              "31.12.2016 23:40:00             3.28       1288.39      1.08           2.00   \n",
              "31.12.2016 23:50:00             3.20       1293.56      1.49           2.16   \n",
              "01.01.2017 00:00:00             3.23       1296.38      1.23           1.96   \n",
              "\n",
              "                     wd (deg)  \n",
              "Date Time                      \n",
              "01.01.2009 00:10:00     152.3  \n",
              "01.01.2009 00:20:00     136.1  \n",
              "01.01.2009 00:30:00     171.6  \n",
              "01.01.2009 00:40:00     198.0  \n",
              "01.01.2009 00:50:00     214.3  \n",
              "...                       ...  \n",
              "31.12.2016 23:20:00     240.0  \n",
              "31.12.2016 23:30:00     234.3  \n",
              "31.12.2016 23:40:00     215.2  \n",
              "31.12.2016 23:50:00     225.8  \n",
              "01.01.2017 00:00:00     184.9  \n",
              "\n",
              "[420551 rows x 14 columns]"
            ],
            "text/html": [
              "\n",
              "  <div id=\"df-22e9b93e-3d28-440d-acfa-53b19a17061b\">\n",
              "    <div class=\"colab-df-container\">\n",
              "      <div>\n",
              "<style scoped>\n",
              "    .dataframe tbody tr th:only-of-type {\n",
              "        vertical-align: middle;\n",
              "    }\n",
              "\n",
              "    .dataframe tbody tr th {\n",
              "        vertical-align: top;\n",
              "    }\n",
              "\n",
              "    .dataframe thead th {\n",
              "        text-align: right;\n",
              "    }\n",
              "</style>\n",
              "<table border=\"1\" class=\"dataframe\">\n",
              "  <thead>\n",
              "    <tr style=\"text-align: right;\">\n",
              "      <th></th>\n",
              "      <th>p (mbar)</th>\n",
              "      <th>T (degC)</th>\n",
              "      <th>Tpot (K)</th>\n",
              "      <th>Tdew (degC)</th>\n",
              "      <th>rh (%)</th>\n",
              "      <th>VPmax (mbar)</th>\n",
              "      <th>VPact (mbar)</th>\n",
              "      <th>VPdef (mbar)</th>\n",
              "      <th>sh (g/kg)</th>\n",
              "      <th>H2OC (mmol/mol)</th>\n",
              "      <th>rho (g/m**3)</th>\n",
              "      <th>wv (m/s)</th>\n",
              "      <th>max. wv (m/s)</th>\n",
              "      <th>wd (deg)</th>\n",
              "    </tr>\n",
              "    <tr>\n",
              "      <th>Date Time</th>\n",
              "      <th></th>\n",
              "      <th></th>\n",
              "      <th></th>\n",
              "      <th></th>\n",
              "      <th></th>\n",
              "      <th></th>\n",
              "      <th></th>\n",
              "      <th></th>\n",
              "      <th></th>\n",
              "      <th></th>\n",
              "      <th></th>\n",
              "      <th></th>\n",
              "      <th></th>\n",
              "      <th></th>\n",
              "    </tr>\n",
              "  </thead>\n",
              "  <tbody>\n",
              "    <tr>\n",
              "      <th>01.01.2009 00:10:00</th>\n",
              "      <td>996.52</td>\n",
              "      <td>-8.02</td>\n",
              "      <td>265.40</td>\n",
              "      <td>-8.90</td>\n",
              "      <td>93.30</td>\n",
              "      <td>3.33</td>\n",
              "      <td>3.11</td>\n",
              "      <td>0.22</td>\n",
              "      <td>1.94</td>\n",
              "      <td>3.12</td>\n",
              "      <td>1307.75</td>\n",
              "      <td>1.03</td>\n",
              "      <td>1.75</td>\n",
              "      <td>152.3</td>\n",
              "    </tr>\n",
              "    <tr>\n",
              "      <th>01.01.2009 00:20:00</th>\n",
              "      <td>996.57</td>\n",
              "      <td>-8.41</td>\n",
              "      <td>265.01</td>\n",
              "      <td>-9.28</td>\n",
              "      <td>93.40</td>\n",
              "      <td>3.23</td>\n",
              "      <td>3.02</td>\n",
              "      <td>0.21</td>\n",
              "      <td>1.89</td>\n",
              "      <td>3.03</td>\n",
              "      <td>1309.80</td>\n",
              "      <td>0.72</td>\n",
              "      <td>1.50</td>\n",
              "      <td>136.1</td>\n",
              "    </tr>\n",
              "    <tr>\n",
              "      <th>01.01.2009 00:30:00</th>\n",
              "      <td>996.53</td>\n",
              "      <td>-8.51</td>\n",
              "      <td>264.91</td>\n",
              "      <td>-9.31</td>\n",
              "      <td>93.90</td>\n",
              "      <td>3.21</td>\n",
              "      <td>3.01</td>\n",
              "      <td>0.20</td>\n",
              "      <td>1.88</td>\n",
              "      <td>3.02</td>\n",
              "      <td>1310.24</td>\n",
              "      <td>0.19</td>\n",
              "      <td>0.63</td>\n",
              "      <td>171.6</td>\n",
              "    </tr>\n",
              "    <tr>\n",
              "      <th>01.01.2009 00:40:00</th>\n",
              "      <td>996.51</td>\n",
              "      <td>-8.31</td>\n",
              "      <td>265.12</td>\n",
              "      <td>-9.07</td>\n",
              "      <td>94.20</td>\n",
              "      <td>3.26</td>\n",
              "      <td>3.07</td>\n",
              "      <td>0.19</td>\n",
              "      <td>1.92</td>\n",
              "      <td>3.08</td>\n",
              "      <td>1309.19</td>\n",
              "      <td>0.34</td>\n",
              "      <td>0.50</td>\n",
              "      <td>198.0</td>\n",
              "    </tr>\n",
              "    <tr>\n",
              "      <th>01.01.2009 00:50:00</th>\n",
              "      <td>996.51</td>\n",
              "      <td>-8.27</td>\n",
              "      <td>265.15</td>\n",
              "      <td>-9.04</td>\n",
              "      <td>94.10</td>\n",
              "      <td>3.27</td>\n",
              "      <td>3.08</td>\n",
              "      <td>0.19</td>\n",
              "      <td>1.92</td>\n",
              "      <td>3.09</td>\n",
              "      <td>1309.00</td>\n",
              "      <td>0.32</td>\n",
              "      <td>0.63</td>\n",
              "      <td>214.3</td>\n",
              "    </tr>\n",
              "    <tr>\n",
              "      <th>...</th>\n",
              "      <td>...</td>\n",
              "      <td>...</td>\n",
              "      <td>...</td>\n",
              "      <td>...</td>\n",
              "      <td>...</td>\n",
              "      <td>...</td>\n",
              "      <td>...</td>\n",
              "      <td>...</td>\n",
              "      <td>...</td>\n",
              "      <td>...</td>\n",
              "      <td>...</td>\n",
              "      <td>...</td>\n",
              "      <td>...</td>\n",
              "      <td>...</td>\n",
              "    </tr>\n",
              "    <tr>\n",
              "      <th>31.12.2016 23:20:00</th>\n",
              "      <td>1000.07</td>\n",
              "      <td>-4.05</td>\n",
              "      <td>269.10</td>\n",
              "      <td>-8.13</td>\n",
              "      <td>73.10</td>\n",
              "      <td>4.52</td>\n",
              "      <td>3.30</td>\n",
              "      <td>1.22</td>\n",
              "      <td>2.06</td>\n",
              "      <td>3.30</td>\n",
              "      <td>1292.98</td>\n",
              "      <td>0.67</td>\n",
              "      <td>1.52</td>\n",
              "      <td>240.0</td>\n",
              "    </tr>\n",
              "    <tr>\n",
              "      <th>31.12.2016 23:30:00</th>\n",
              "      <td>999.93</td>\n",
              "      <td>-3.35</td>\n",
              "      <td>269.81</td>\n",
              "      <td>-8.06</td>\n",
              "      <td>69.71</td>\n",
              "      <td>4.77</td>\n",
              "      <td>3.32</td>\n",
              "      <td>1.44</td>\n",
              "      <td>2.07</td>\n",
              "      <td>3.32</td>\n",
              "      <td>1289.44</td>\n",
              "      <td>1.14</td>\n",
              "      <td>1.92</td>\n",
              "      <td>234.3</td>\n",
              "    </tr>\n",
              "    <tr>\n",
              "      <th>31.12.2016 23:40:00</th>\n",
              "      <td>999.82</td>\n",
              "      <td>-3.16</td>\n",
              "      <td>270.01</td>\n",
              "      <td>-8.21</td>\n",
              "      <td>67.91</td>\n",
              "      <td>4.84</td>\n",
              "      <td>3.28</td>\n",
              "      <td>1.55</td>\n",
              "      <td>2.05</td>\n",
              "      <td>3.28</td>\n",
              "      <td>1288.39</td>\n",
              "      <td>1.08</td>\n",
              "      <td>2.00</td>\n",
              "      <td>215.2</td>\n",
              "    </tr>\n",
              "    <tr>\n",
              "      <th>31.12.2016 23:50:00</th>\n",
              "      <td>999.81</td>\n",
              "      <td>-4.23</td>\n",
              "      <td>268.94</td>\n",
              "      <td>-8.53</td>\n",
              "      <td>71.80</td>\n",
              "      <td>4.46</td>\n",
              "      <td>3.20</td>\n",
              "      <td>1.26</td>\n",
              "      <td>1.99</td>\n",
              "      <td>3.20</td>\n",
              "      <td>1293.56</td>\n",
              "      <td>1.49</td>\n",
              "      <td>2.16</td>\n",
              "      <td>225.8</td>\n",
              "    </tr>\n",
              "    <tr>\n",
              "      <th>01.01.2017 00:00:00</th>\n",
              "      <td>999.82</td>\n",
              "      <td>-4.82</td>\n",
              "      <td>268.36</td>\n",
              "      <td>-8.42</td>\n",
              "      <td>75.70</td>\n",
              "      <td>4.27</td>\n",
              "      <td>3.23</td>\n",
              "      <td>1.04</td>\n",
              "      <td>2.01</td>\n",
              "      <td>3.23</td>\n",
              "      <td>1296.38</td>\n",
              "      <td>1.23</td>\n",
              "      <td>1.96</td>\n",
              "      <td>184.9</td>\n",
              "    </tr>\n",
              "  </tbody>\n",
              "</table>\n",
              "<p>420551 rows × 14 columns</p>\n",
              "</div>\n",
              "      <button class=\"colab-df-convert\" onclick=\"convertToInteractive('df-22e9b93e-3d28-440d-acfa-53b19a17061b')\"\n",
              "              title=\"Convert this dataframe to an interactive table.\"\n",
              "              style=\"display:none;\">\n",
              "        \n",
              "  <svg xmlns=\"http://www.w3.org/2000/svg\" height=\"24px\"viewBox=\"0 0 24 24\"\n",
              "       width=\"24px\">\n",
              "    <path d=\"M0 0h24v24H0V0z\" fill=\"none\"/>\n",
              "    <path d=\"M18.56 5.44l.94 2.06.94-2.06 2.06-.94-2.06-.94-.94-2.06-.94 2.06-2.06.94zm-11 1L8.5 8.5l.94-2.06 2.06-.94-2.06-.94L8.5 2.5l-.94 2.06-2.06.94zm10 10l.94 2.06.94-2.06 2.06-.94-2.06-.94-.94-2.06-.94 2.06-2.06.94z\"/><path d=\"M17.41 7.96l-1.37-1.37c-.4-.4-.92-.59-1.43-.59-.52 0-1.04.2-1.43.59L10.3 9.45l-7.72 7.72c-.78.78-.78 2.05 0 2.83L4 21.41c.39.39.9.59 1.41.59.51 0 1.02-.2 1.41-.59l7.78-7.78 2.81-2.81c.8-.78.8-2.07 0-2.86zM5.41 20L4 18.59l7.72-7.72 1.47 1.35L5.41 20z\"/>\n",
              "  </svg>\n",
              "      </button>\n",
              "      \n",
              "  <style>\n",
              "    .colab-df-container {\n",
              "      display:flex;\n",
              "      flex-wrap:wrap;\n",
              "      gap: 12px;\n",
              "    }\n",
              "\n",
              "    .colab-df-convert {\n",
              "      background-color: #E8F0FE;\n",
              "      border: none;\n",
              "      border-radius: 50%;\n",
              "      cursor: pointer;\n",
              "      display: none;\n",
              "      fill: #1967D2;\n",
              "      height: 32px;\n",
              "      padding: 0 0 0 0;\n",
              "      width: 32px;\n",
              "    }\n",
              "\n",
              "    .colab-df-convert:hover {\n",
              "      background-color: #E2EBFA;\n",
              "      box-shadow: 0px 1px 2px rgba(60, 64, 67, 0.3), 0px 1px 3px 1px rgba(60, 64, 67, 0.15);\n",
              "      fill: #174EA6;\n",
              "    }\n",
              "\n",
              "    [theme=dark] .colab-df-convert {\n",
              "      background-color: #3B4455;\n",
              "      fill: #D2E3FC;\n",
              "    }\n",
              "\n",
              "    [theme=dark] .colab-df-convert:hover {\n",
              "      background-color: #434B5C;\n",
              "      box-shadow: 0px 1px 3px 1px rgba(0, 0, 0, 0.15);\n",
              "      filter: drop-shadow(0px 1px 2px rgba(0, 0, 0, 0.3));\n",
              "      fill: #FFFFFF;\n",
              "    }\n",
              "  </style>\n",
              "\n",
              "      <script>\n",
              "        const buttonEl =\n",
              "          document.querySelector('#df-22e9b93e-3d28-440d-acfa-53b19a17061b button.colab-df-convert');\n",
              "        buttonEl.style.display =\n",
              "          google.colab.kernel.accessAllowed ? 'block' : 'none';\n",
              "\n",
              "        async function convertToInteractive(key) {\n",
              "          const element = document.querySelector('#df-22e9b93e-3d28-440d-acfa-53b19a17061b');\n",
              "          const dataTable =\n",
              "            await google.colab.kernel.invokeFunction('convertToInteractive',\n",
              "                                                     [key], {});\n",
              "          if (!dataTable) return;\n",
              "\n",
              "          const docLinkHtml = 'Like what you see? Visit the ' +\n",
              "            '<a target=\"_blank\" href=https://colab.research.google.com/notebooks/data_table.ipynb>data table notebook</a>'\n",
              "            + ' to learn more about interactive tables.';\n",
              "          element.innerHTML = '';\n",
              "          dataTable['output_type'] = 'display_data';\n",
              "          await google.colab.output.renderOutput(dataTable, element);\n",
              "          const docLink = document.createElement('div');\n",
              "          docLink.innerHTML = docLinkHtml;\n",
              "          element.appendChild(docLink);\n",
              "        }\n",
              "      </script>\n",
              "    </div>\n",
              "  </div>\n",
              "  "
            ]
          },
          "metadata": {},
          "execution_count": 4
        }
      ]
    },
    {
      "cell_type": "code",
      "source": [
        "# Print aggregate statistics\n",
        "df_climate.describe()"
      ],
      "metadata": {
        "colab": {
          "base_uri": "https://localhost:8080/",
          "height": 300
        },
        "id": "QyVamWE_8CCf",
        "outputId": "7162ccef-e9b1-4db3-a21e-6909ab9ccf88"
      },
      "execution_count": 5,
      "outputs": [
        {
          "output_type": "execute_result",
          "data": {
            "text/plain": [
              "            p (mbar)       T (degC)       Tpot (K)    Tdew (degC)  \\\n",
              "count  420551.000000  420551.000000  420551.000000  420551.000000   \n",
              "mean      989.212776       9.450147     283.492743       4.955854   \n",
              "std         8.358481       8.423365       8.504471       6.730674   \n",
              "min       913.600000     -23.010000     250.600000     -25.010000   \n",
              "25%       984.200000       3.360000     277.430000       0.240000   \n",
              "50%       989.580000       9.420000     283.470000       5.220000   \n",
              "75%       994.720000      15.470000     289.530000      10.070000   \n",
              "max      1015.350000      37.280000     311.340000      23.110000   \n",
              "\n",
              "              rh (%)   VPmax (mbar)   VPact (mbar)   VPdef (mbar)  \\\n",
              "count  420551.000000  420551.000000  420551.000000  420551.000000   \n",
              "mean       76.008259      13.576251       9.533756       4.042412   \n",
              "std        16.476175       7.739020       4.184164       4.896851   \n",
              "min        12.950000       0.950000       0.790000       0.000000   \n",
              "25%        65.210000       7.780000       6.210000       0.870000   \n",
              "50%        79.300000      11.820000       8.860000       2.190000   \n",
              "75%        89.400000      17.600000      12.350000       5.300000   \n",
              "max       100.000000      63.770000      28.320000      46.010000   \n",
              "\n",
              "           sh (g/kg)  H2OC (mmol/mol)   rho (g/m**3)       wv (m/s)  \\\n",
              "count  420551.000000    420551.000000  420551.000000  420551.000000   \n",
              "mean        6.022408         9.640223    1216.062748       1.702224   \n",
              "std         2.656139         4.235395      39.975208      65.446714   \n",
              "min         0.500000         0.800000    1059.450000   -9999.000000   \n",
              "25%         3.920000         6.290000    1187.490000       0.990000   \n",
              "50%         5.590000         8.960000    1213.790000       1.760000   \n",
              "75%         7.800000        12.490000    1242.770000       2.860000   \n",
              "max        18.130000        28.820000    1393.540000      28.490000   \n",
              "\n",
              "       max. wv (m/s)       wd (deg)  \n",
              "count  420551.000000  420551.000000  \n",
              "mean        3.056555     174.743738  \n",
              "std        69.016932      86.681693  \n",
              "min     -9999.000000       0.000000  \n",
              "25%         1.760000     124.900000  \n",
              "50%         2.960000     198.100000  \n",
              "75%         4.740000     234.100000  \n",
              "max        23.500000     360.000000  "
            ],
            "text/html": [
              "\n",
              "  <div id=\"df-19207b62-3cf2-4c5f-be06-01a8a73b2e7d\">\n",
              "    <div class=\"colab-df-container\">\n",
              "      <div>\n",
              "<style scoped>\n",
              "    .dataframe tbody tr th:only-of-type {\n",
              "        vertical-align: middle;\n",
              "    }\n",
              "\n",
              "    .dataframe tbody tr th {\n",
              "        vertical-align: top;\n",
              "    }\n",
              "\n",
              "    .dataframe thead th {\n",
              "        text-align: right;\n",
              "    }\n",
              "</style>\n",
              "<table border=\"1\" class=\"dataframe\">\n",
              "  <thead>\n",
              "    <tr style=\"text-align: right;\">\n",
              "      <th></th>\n",
              "      <th>p (mbar)</th>\n",
              "      <th>T (degC)</th>\n",
              "      <th>Tpot (K)</th>\n",
              "      <th>Tdew (degC)</th>\n",
              "      <th>rh (%)</th>\n",
              "      <th>VPmax (mbar)</th>\n",
              "      <th>VPact (mbar)</th>\n",
              "      <th>VPdef (mbar)</th>\n",
              "      <th>sh (g/kg)</th>\n",
              "      <th>H2OC (mmol/mol)</th>\n",
              "      <th>rho (g/m**3)</th>\n",
              "      <th>wv (m/s)</th>\n",
              "      <th>max. wv (m/s)</th>\n",
              "      <th>wd (deg)</th>\n",
              "    </tr>\n",
              "  </thead>\n",
              "  <tbody>\n",
              "    <tr>\n",
              "      <th>count</th>\n",
              "      <td>420551.000000</td>\n",
              "      <td>420551.000000</td>\n",
              "      <td>420551.000000</td>\n",
              "      <td>420551.000000</td>\n",
              "      <td>420551.000000</td>\n",
              "      <td>420551.000000</td>\n",
              "      <td>420551.000000</td>\n",
              "      <td>420551.000000</td>\n",
              "      <td>420551.000000</td>\n",
              "      <td>420551.000000</td>\n",
              "      <td>420551.000000</td>\n",
              "      <td>420551.000000</td>\n",
              "      <td>420551.000000</td>\n",
              "      <td>420551.000000</td>\n",
              "    </tr>\n",
              "    <tr>\n",
              "      <th>mean</th>\n",
              "      <td>989.212776</td>\n",
              "      <td>9.450147</td>\n",
              "      <td>283.492743</td>\n",
              "      <td>4.955854</td>\n",
              "      <td>76.008259</td>\n",
              "      <td>13.576251</td>\n",
              "      <td>9.533756</td>\n",
              "      <td>4.042412</td>\n",
              "      <td>6.022408</td>\n",
              "      <td>9.640223</td>\n",
              "      <td>1216.062748</td>\n",
              "      <td>1.702224</td>\n",
              "      <td>3.056555</td>\n",
              "      <td>174.743738</td>\n",
              "    </tr>\n",
              "    <tr>\n",
              "      <th>std</th>\n",
              "      <td>8.358481</td>\n",
              "      <td>8.423365</td>\n",
              "      <td>8.504471</td>\n",
              "      <td>6.730674</td>\n",
              "      <td>16.476175</td>\n",
              "      <td>7.739020</td>\n",
              "      <td>4.184164</td>\n",
              "      <td>4.896851</td>\n",
              "      <td>2.656139</td>\n",
              "      <td>4.235395</td>\n",
              "      <td>39.975208</td>\n",
              "      <td>65.446714</td>\n",
              "      <td>69.016932</td>\n",
              "      <td>86.681693</td>\n",
              "    </tr>\n",
              "    <tr>\n",
              "      <th>min</th>\n",
              "      <td>913.600000</td>\n",
              "      <td>-23.010000</td>\n",
              "      <td>250.600000</td>\n",
              "      <td>-25.010000</td>\n",
              "      <td>12.950000</td>\n",
              "      <td>0.950000</td>\n",
              "      <td>0.790000</td>\n",
              "      <td>0.000000</td>\n",
              "      <td>0.500000</td>\n",
              "      <td>0.800000</td>\n",
              "      <td>1059.450000</td>\n",
              "      <td>-9999.000000</td>\n",
              "      <td>-9999.000000</td>\n",
              "      <td>0.000000</td>\n",
              "    </tr>\n",
              "    <tr>\n",
              "      <th>25%</th>\n",
              "      <td>984.200000</td>\n",
              "      <td>3.360000</td>\n",
              "      <td>277.430000</td>\n",
              "      <td>0.240000</td>\n",
              "      <td>65.210000</td>\n",
              "      <td>7.780000</td>\n",
              "      <td>6.210000</td>\n",
              "      <td>0.870000</td>\n",
              "      <td>3.920000</td>\n",
              "      <td>6.290000</td>\n",
              "      <td>1187.490000</td>\n",
              "      <td>0.990000</td>\n",
              "      <td>1.760000</td>\n",
              "      <td>124.900000</td>\n",
              "    </tr>\n",
              "    <tr>\n",
              "      <th>50%</th>\n",
              "      <td>989.580000</td>\n",
              "      <td>9.420000</td>\n",
              "      <td>283.470000</td>\n",
              "      <td>5.220000</td>\n",
              "      <td>79.300000</td>\n",
              "      <td>11.820000</td>\n",
              "      <td>8.860000</td>\n",
              "      <td>2.190000</td>\n",
              "      <td>5.590000</td>\n",
              "      <td>8.960000</td>\n",
              "      <td>1213.790000</td>\n",
              "      <td>1.760000</td>\n",
              "      <td>2.960000</td>\n",
              "      <td>198.100000</td>\n",
              "    </tr>\n",
              "    <tr>\n",
              "      <th>75%</th>\n",
              "      <td>994.720000</td>\n",
              "      <td>15.470000</td>\n",
              "      <td>289.530000</td>\n",
              "      <td>10.070000</td>\n",
              "      <td>89.400000</td>\n",
              "      <td>17.600000</td>\n",
              "      <td>12.350000</td>\n",
              "      <td>5.300000</td>\n",
              "      <td>7.800000</td>\n",
              "      <td>12.490000</td>\n",
              "      <td>1242.770000</td>\n",
              "      <td>2.860000</td>\n",
              "      <td>4.740000</td>\n",
              "      <td>234.100000</td>\n",
              "    </tr>\n",
              "    <tr>\n",
              "      <th>max</th>\n",
              "      <td>1015.350000</td>\n",
              "      <td>37.280000</td>\n",
              "      <td>311.340000</td>\n",
              "      <td>23.110000</td>\n",
              "      <td>100.000000</td>\n",
              "      <td>63.770000</td>\n",
              "      <td>28.320000</td>\n",
              "      <td>46.010000</td>\n",
              "      <td>18.130000</td>\n",
              "      <td>28.820000</td>\n",
              "      <td>1393.540000</td>\n",
              "      <td>28.490000</td>\n",
              "      <td>23.500000</td>\n",
              "      <td>360.000000</td>\n",
              "    </tr>\n",
              "  </tbody>\n",
              "</table>\n",
              "</div>\n",
              "      <button class=\"colab-df-convert\" onclick=\"convertToInteractive('df-19207b62-3cf2-4c5f-be06-01a8a73b2e7d')\"\n",
              "              title=\"Convert this dataframe to an interactive table.\"\n",
              "              style=\"display:none;\">\n",
              "        \n",
              "  <svg xmlns=\"http://www.w3.org/2000/svg\" height=\"24px\"viewBox=\"0 0 24 24\"\n",
              "       width=\"24px\">\n",
              "    <path d=\"M0 0h24v24H0V0z\" fill=\"none\"/>\n",
              "    <path d=\"M18.56 5.44l.94 2.06.94-2.06 2.06-.94-2.06-.94-.94-2.06-.94 2.06-2.06.94zm-11 1L8.5 8.5l.94-2.06 2.06-.94-2.06-.94L8.5 2.5l-.94 2.06-2.06.94zm10 10l.94 2.06.94-2.06 2.06-.94-2.06-.94-.94-2.06-.94 2.06-2.06.94z\"/><path d=\"M17.41 7.96l-1.37-1.37c-.4-.4-.92-.59-1.43-.59-.52 0-1.04.2-1.43.59L10.3 9.45l-7.72 7.72c-.78.78-.78 2.05 0 2.83L4 21.41c.39.39.9.59 1.41.59.51 0 1.02-.2 1.41-.59l7.78-7.78 2.81-2.81c.8-.78.8-2.07 0-2.86zM5.41 20L4 18.59l7.72-7.72 1.47 1.35L5.41 20z\"/>\n",
              "  </svg>\n",
              "      </button>\n",
              "      \n",
              "  <style>\n",
              "    .colab-df-container {\n",
              "      display:flex;\n",
              "      flex-wrap:wrap;\n",
              "      gap: 12px;\n",
              "    }\n",
              "\n",
              "    .colab-df-convert {\n",
              "      background-color: #E8F0FE;\n",
              "      border: none;\n",
              "      border-radius: 50%;\n",
              "      cursor: pointer;\n",
              "      display: none;\n",
              "      fill: #1967D2;\n",
              "      height: 32px;\n",
              "      padding: 0 0 0 0;\n",
              "      width: 32px;\n",
              "    }\n",
              "\n",
              "    .colab-df-convert:hover {\n",
              "      background-color: #E2EBFA;\n",
              "      box-shadow: 0px 1px 2px rgba(60, 64, 67, 0.3), 0px 1px 3px 1px rgba(60, 64, 67, 0.15);\n",
              "      fill: #174EA6;\n",
              "    }\n",
              "\n",
              "    [theme=dark] .colab-df-convert {\n",
              "      background-color: #3B4455;\n",
              "      fill: #D2E3FC;\n",
              "    }\n",
              "\n",
              "    [theme=dark] .colab-df-convert:hover {\n",
              "      background-color: #434B5C;\n",
              "      box-shadow: 0px 1px 3px 1px rgba(0, 0, 0, 0.15);\n",
              "      filter: drop-shadow(0px 1px 2px rgba(0, 0, 0, 0.3));\n",
              "      fill: #FFFFFF;\n",
              "    }\n",
              "  </style>\n",
              "\n",
              "      <script>\n",
              "        const buttonEl =\n",
              "          document.querySelector('#df-19207b62-3cf2-4c5f-be06-01a8a73b2e7d button.colab-df-convert');\n",
              "        buttonEl.style.display =\n",
              "          google.colab.kernel.accessAllowed ? 'block' : 'none';\n",
              "\n",
              "        async function convertToInteractive(key) {\n",
              "          const element = document.querySelector('#df-19207b62-3cf2-4c5f-be06-01a8a73b2e7d');\n",
              "          const dataTable =\n",
              "            await google.colab.kernel.invokeFunction('convertToInteractive',\n",
              "                                                     [key], {});\n",
              "          if (!dataTable) return;\n",
              "\n",
              "          const docLinkHtml = 'Like what you see? Visit the ' +\n",
              "            '<a target=\"_blank\" href=https://colab.research.google.com/notebooks/data_table.ipynb>data table notebook</a>'\n",
              "            + ' to learn more about interactive tables.';\n",
              "          element.innerHTML = '';\n",
              "          dataTable['output_type'] = 'display_data';\n",
              "          await google.colab.output.renderOutput(dataTable, element);\n",
              "          const docLink = document.createElement('div');\n",
              "          docLink.innerHTML = docLinkHtml;\n",
              "          element.appendChild(docLink);\n",
              "        }\n",
              "      </script>\n",
              "    </div>\n",
              "  </div>\n",
              "  "
            ]
          },
          "metadata": {},
          "execution_count": 5
        }
      ]
    },
    {
      "cell_type": "code",
      "source": [
        "# Visualize any of the features as a function of time\n",
        "feature_id = 1\n",
        "df_climate.iloc[:, feature_id].plot(rot=25)\n",
        "plt.xlabel('Time')\n",
        "plt.ylabel(df_climate.columns[feature_id])"
      ],
      "metadata": {
        "colab": {
          "base_uri": "https://localhost:8080/",
          "height": 530
        },
        "id": "wd8rL7d0ExkG",
        "outputId": "e81fcf29-0f3a-4a09-bbdd-59f6ba336b38"
      },
      "execution_count": 6,
      "outputs": [
        {
          "output_type": "execute_result",
          "data": {
            "text/plain": [
              "Text(0, 0.5, 'T (degC)')"
            ]
          },
          "metadata": {},
          "execution_count": 6
        },
        {
          "output_type": "display_data",
          "data": {
            "text/plain": [
              "<Figure size 640x480 with 1 Axes>"
            ],
            "image/png": "[encoded data removed]"
          },
          "metadata": {}
        }
      ]
    },
    {
      "cell_type": "markdown",
      "source": [
        "https://pandas.pydata.org/docs/user_guide/visualization.html"
      ],
      "metadata": {
        "id": "-EXbFBNoTQDd"
      }
    },
    {
      "cell_type": "markdown",
      "source": [
        "**Note:**\n",
        "* Our goal will be to predict the temperature at time `t`, given some history (previous values) of temperature and other readings.\n",
        "* This is can be seen as a regression task.\n",
        "* Where do we get the target?\n",
        "  * We do not need an external source: we will repurpose the available data itself.\n",
        "  * I.e. the temperature information will work both as input and as target (but we need to structure the data appropriately)"
      ],
      "metadata": {
        "id": "oqwkjtKb6d4u"
      }
    },
    {
      "cell_type": "markdown",
      "source": [
        "Given P elements in the past, we want to predict 1 element that is F positions in the future:\n",
        "```\n",
        "[][][][][][]····[]\n",
        "\\__________/\\____/\n",
        "    PAST    FUTURE\n",
        "```\n",
        "\n",
        "We can have this structure move across all our dataset, and build a large number of input-target pairs."
      ],
      "metadata": {
        "id": "z6AWchIM7muc"
      }
    },
    {
      "cell_type": "code",
      "source": [
        "past = 720\n",
        "future = 72"
      ],
      "metadata": {
        "id": "q9VbpVHJQc7A"
      },
      "execution_count": 7,
      "outputs": []
    },
    {
      "cell_type": "markdown",
      "source": [
        "# Preprocessing"
      ],
      "metadata": {
        "id": "jDSx-ME9BM8i"
      }
    },
    {
      "cell_type": "code",
      "source": [
        "df = df_climate"
      ],
      "metadata": {
        "id": "8oftfODkCSUM"
      },
      "execution_count": 8,
      "outputs": []
    },
    {
      "cell_type": "markdown",
      "source": [
        "## Define training and validation sets"
      ],
      "metadata": {
        "id": "lOq7TPNRGe8n"
      }
    },
    {
      "cell_type": "code",
      "source": [
        "# Specify the ratio of training-validation data and compute the corresponding number of elements\n",
        "split_fraction = 0.7\n",
        "N_train = int(split_fraction * df.shape[0])\n",
        "N_train"
      ],
      "metadata": {
        "id": "roH0Gy78Ghso",
        "colab": {
          "base_uri": "https://localhost:8080/"
        },
        "outputId": "f5e4b367-bd9b-424c-89db-fb061122fb21"
      },
      "execution_count": 9,
      "outputs": [
        {
          "output_type": "execute_result",
          "data": {
            "text/plain": [
              "294385"
            ]
          },
          "metadata": {},
          "execution_count": 9
        }
      ]
    },
    {
      "cell_type": "code",
      "source": [
        "# Whole dataset\n",
        "df.shape"
      ],
      "metadata": {
        "colab": {
          "base_uri": "https://localhost:8080/"
        },
        "id": "WgqAnavNG9ZG",
        "outputId": "436bcf91-8696-4c3b-c6d3-6db093af2145"
      },
      "execution_count": 10,
      "outputs": [
        {
          "output_type": "execute_result",
          "data": {
            "text/plain": [
              "(420551, 14)"
            ]
          },
          "metadata": {},
          "execution_count": 10
        }
      ]
    },
    {
      "cell_type": "markdown",
      "source": [
        "**Note:**\n",
        "* We will split the available data by taking the first N datapoints as training and the remaining as validation.\n",
        "* When we do this we must always be aware of any bias in the data:\n",
        "  * For example, if the temporal range is not large enough, training and validation data might actually cover totally different distributions."
      ],
      "metadata": {
        "id": "OZXZWT4L5ygV"
      }
    },
    {
      "cell_type": "markdown",
      "source": [
        "```\n",
        "df:         [][][][][][][][][][][][][][][][][][][][][][][][][][][][][][][][][][]\n",
        "training:   [][][][][][][][][][][][][][][][][][][][]\n",
        "validation:                                         [][][][][][][][][][][][][][]\n",
        "```\n",
        "(This visualization is shown horizontally for the sake of space.<br/>\n",
        "Keep in mind that the time steps are actually along the first dimension, which is normally interpreted as the rows of a matrix)\n"
      ],
      "metadata": {
        "id": "hpGtUJJQCXBW"
      }
    },
    {
      "cell_type": "markdown",
      "source": [
        "## Standardize data"
      ],
      "metadata": {
        "id": "sh1nOKYeB_cB"
      }
    },
    {
      "cell_type": "code",
      "source": [
        "# Apply z-score standardization based on training data\n",
        "data_mean = df[:N_train].mean(axis=0)\n",
        "data_std = df[:N_train].std(axis=0)\n",
        "df = (df - data_mean) / data_std"
      ],
      "metadata": {
        "id": "S-qCLhGuGOM4"
      },
      "execution_count": 11,
      "outputs": []
    },
    {
      "cell_type": "markdown",
      "source": [
        "**Note:**\n",
        "* We compute the statistics (mean and standard deviation) for all variables, using all the examples from the training set.\n",
        "  * I.e. for any variable, we analyze all training values and extract mean and standard deviation.\n",
        "* We then use those **training-specific** statistics to normalize the **whole** dataset (both training set and validation set)."
      ],
      "metadata": {
        "id": "6UK9bMDiQpT5"
      }
    },
    {
      "cell_type": "code",
      "source": [
        "df.describe()"
      ],
      "metadata": {
        "colab": {
          "base_uri": "https://localhost:8080/",
          "height": 300
        },
        "id": "4xJOtgRnHLf1",
        "outputId": "b5601cc7-fdf1-446f-e35f-396ae8ecf472"
      },
      "execution_count": 12,
      "outputs": [
        {
          "output_type": "execute_result",
          "data": {
            "text/plain": [
              "            p (mbar)       T (degC)       Tpot (K)    Tdew (degC)  \\\n",
              "count  420551.000000  420551.000000  420551.000000  420551.000000   \n",
              "mean        0.067071       0.039582       0.034205       0.051223   \n",
              "std         1.007433       0.973322       0.974819       0.965278   \n",
              "min        -9.046402      -3.711197      -3.736104      -4.246323   \n",
              "25%        -0.537110      -0.664136      -0.660733      -0.625100   \n",
              "50%         0.111332       0.036098       0.031598       0.089105   \n",
              "75%         0.730847       0.735177       0.726221       0.784667   \n",
              "max         3.217344       3.255329       3.226178       2.654795   \n",
              "\n",
              "              rh (%)   VPmax (mbar)   VPact (mbar)   VPdef (mbar)  \\\n",
              "count  420551.000000  420551.000000  420551.000000  420551.000000   \n",
              "mean        0.006292       0.028864       0.042101       0.009314   \n",
              "std         0.995111       1.006017       0.994167       1.016914   \n",
              "min        -3.802237      -1.612458      -2.035436      -0.830161   \n",
              "25%        -0.645890      -0.724607      -0.747631      -0.649491   \n",
              "50%         0.205103      -0.199436      -0.117985      -0.375371   \n",
              "75%         0.815113       0.551922       0.711247       0.270474   \n",
              "max         1.455321       6.553689       4.505756       8.724597   \n",
              "\n",
              "           sh (g/kg)  H2OC (mmol/mol)   rho (g/m**3)       wv (m/s)  \\\n",
              "count  420551.000000    420551.000000  420551.000000  420551.000000   \n",
              "mean        0.040847         0.040901      -0.022811      -0.295629   \n",
              "std         0.994227         0.994096       0.976033      42.772441   \n",
              "min        -2.026262        -2.034001      -3.846661   -6536.215061   \n",
              "25%        -0.746112        -0.745435      -0.720442      -0.761100   \n",
              "50%        -0.121009        -0.118755      -0.078303      -0.257870   \n",
              "75%         0.706222         0.709777       0.629272       0.461031   \n",
              "max         4.572875         4.542616       4.310466      17.211416   \n",
              "\n",
              "       max. wv (m/s)       wd (deg)  \n",
              "count  420551.000000  420551.000000  \n",
              "mean       -0.217853       0.014843  \n",
              "std        29.823492       0.988683  \n",
              "min     -4322.291371      -1.978268  \n",
              "25%        -0.778118      -0.553670  \n",
              "50%        -0.259576       0.281242  \n",
              "75%         0.509595       0.691855  \n",
              "max         8.616138       2.127859  "
            ],
            "text/html": [
              "\n",
              "  <div id=\"df-190511ab-bc41-451b-a238-33d611a07113\">\n",
              "    <div class=\"colab-df-container\">\n",
              "      <div>\n",
              "<style scoped>\n",
              "    .dataframe tbody tr th:only-of-type {\n",
              "        vertical-align: middle;\n",
              "    }\n",
              "\n",
              "    .dataframe tbody tr th {\n",
              "        vertical-align: top;\n",
              "    }\n",
              "\n",
              "    .dataframe thead th {\n",
              "        text-align: right;\n",
              "    }\n",
              "</style>\n",
              "<table border=\"1\" class=\"dataframe\">\n",
              "  <thead>\n",
              "    <tr style=\"text-align: right;\">\n",
              "      <th></th>\n",
              "      <th>p (mbar)</th>\n",
              "      <th>T (degC)</th>\n",
              "      <th>Tpot (K)</th>\n",
              "      <th>Tdew (degC)</th>\n",
              "      <th>rh (%)</th>\n",
              "      <th>VPmax (mbar)</th>\n",
              "      <th>VPact (mbar)</th>\n",
              "      <th>VPdef (mbar)</th>\n",
              "      <th>sh (g/kg)</th>\n",
              "      <th>H2OC (mmol/mol)</th>\n",
              "      <th>rho (g/m**3)</th>\n",
              "      <th>wv (m/s)</th>\n",
              "      <th>max. wv (m/s)</th>\n",
              "      <th>wd (deg)</th>\n",
              "    </tr>\n",
              "  </thead>\n",
              "  <tbody>\n",
              "    <tr>\n",
              "      <th>count</th>\n",
              "      <td>420551.000000</td>\n",
              "      <td>420551.000000</td>\n",
              "      <td>420551.000000</td>\n",
              "      <td>420551.000000</td>\n",
              "      <td>420551.000000</td>\n",
              "      <td>420551.000000</td>\n",
              "      <td>420551.000000</td>\n",
              "      <td>420551.000000</td>\n",
              "      <td>420551.000000</td>\n",
              "      <td>420551.000000</td>\n",
              "      <td>420551.000000</td>\n",
              "      <td>420551.000000</td>\n",
              "      <td>420551.000000</td>\n",
              "      <td>420551.000000</td>\n",
              "    </tr>\n",
              "    <tr>\n",
              "      <th>mean</th>\n",
              "      <td>0.067071</td>\n",
              "      <td>0.039582</td>\n",
              "      <td>0.034205</td>\n",
              "      <td>0.051223</td>\n",
              "      <td>0.006292</td>\n",
              "      <td>0.028864</td>\n",
              "      <td>0.042101</td>\n",
              "      <td>0.009314</td>\n",
              "      <td>0.040847</td>\n",
              "      <td>0.040901</td>\n",
              "      <td>-0.022811</td>\n",
              "      <td>-0.295629</td>\n",
              "      <td>-0.217853</td>\n",
              "      <td>0.014843</td>\n",
              "    </tr>\n",
              "    <tr>\n",
              "      <th>std</th>\n",
              "      <td>1.007433</td>\n",
              "      <td>0.973322</td>\n",
              "      <td>0.974819</td>\n",
              "      <td>0.965278</td>\n",
              "      <td>0.995111</td>\n",
              "      <td>1.006017</td>\n",
              "      <td>0.994167</td>\n",
              "      <td>1.016914</td>\n",
              "      <td>0.994227</td>\n",
              "      <td>0.994096</td>\n",
              "      <td>0.976033</td>\n",
              "      <td>42.772441</td>\n",
              "      <td>29.823492</td>\n",
              "      <td>0.988683</td>\n",
              "    </tr>\n",
              "    <tr>\n",
              "      <th>min</th>\n",
              "      <td>-9.046402</td>\n",
              "      <td>-3.711197</td>\n",
              "      <td>-3.736104</td>\n",
              "      <td>-4.246323</td>\n",
              "      <td>-3.802237</td>\n",
              "      <td>-1.612458</td>\n",
              "      <td>-2.035436</td>\n",
              "      <td>-0.830161</td>\n",
              "      <td>-2.026262</td>\n",
              "      <td>-2.034001</td>\n",
              "      <td>-3.846661</td>\n",
              "      <td>-6536.215061</td>\n",
              "      <td>-4322.291371</td>\n",
              "      <td>-1.978268</td>\n",
              "    </tr>\n",
              "    <tr>\n",
              "      <th>25%</th>\n",
              "      <td>-0.537110</td>\n",
              "      <td>-0.664136</td>\n",
              "      <td>-0.660733</td>\n",
              "      <td>-0.625100</td>\n",
              "      <td>-0.645890</td>\n",
              "      <td>-0.724607</td>\n",
              "      <td>-0.747631</td>\n",
              "      <td>-0.649491</td>\n",
              "      <td>-0.746112</td>\n",
              "      <td>-0.745435</td>\n",
              "      <td>-0.720442</td>\n",
              "      <td>-0.761100</td>\n",
              "      <td>-0.778118</td>\n",
              "      <td>-0.553670</td>\n",
              "    </tr>\n",
              "    <tr>\n",
              "      <th>50%</th>\n",
              "      <td>0.111332</td>\n",
              "      <td>0.036098</td>\n",
              "      <td>0.031598</td>\n",
              "      <td>0.089105</td>\n",
              "      <td>0.205103</td>\n",
              "      <td>-0.199436</td>\n",
              "      <td>-0.117985</td>\n",
              "      <td>-0.375371</td>\n",
              "      <td>-0.121009</td>\n",
              "      <td>-0.118755</td>\n",
              "      <td>-0.078303</td>\n",
              "      <td>-0.257870</td>\n",
              "      <td>-0.259576</td>\n",
              "      <td>0.281242</td>\n",
              "    </tr>\n",
              "    <tr>\n",
              "      <th>75%</th>\n",
              "      <td>0.730847</td>\n",
              "      <td>0.735177</td>\n",
              "      <td>0.726221</td>\n",
              "      <td>0.784667</td>\n",
              "      <td>0.815113</td>\n",
              "      <td>0.551922</td>\n",
              "      <td>0.711247</td>\n",
              "      <td>0.270474</td>\n",
              "      <td>0.706222</td>\n",
              "      <td>0.709777</td>\n",
              "      <td>0.629272</td>\n",
              "      <td>0.461031</td>\n",
              "      <td>0.509595</td>\n",
              "      <td>0.691855</td>\n",
              "    </tr>\n",
              "    <tr>\n",
              "      <th>max</th>\n",
              "      <td>3.217344</td>\n",
              "      <td>3.255329</td>\n",
              "      <td>3.226178</td>\n",
              "      <td>2.654795</td>\n",
              "      <td>1.455321</td>\n",
              "      <td>6.553689</td>\n",
              "      <td>4.505756</td>\n",
              "      <td>8.724597</td>\n",
              "      <td>4.572875</td>\n",
              "      <td>4.542616</td>\n",
              "      <td>4.310466</td>\n",
              "      <td>17.211416</td>\n",
              "      <td>8.616138</td>\n",
              "      <td>2.127859</td>\n",
              "    </tr>\n",
              "  </tbody>\n",
              "</table>\n",
              "</div>\n",
              "      <button class=\"colab-df-convert\" onclick=\"convertToInteractive('df-190511ab-bc41-451b-a238-33d611a07113')\"\n",
              "              title=\"Convert this dataframe to an interactive table.\"\n",
              "              style=\"display:none;\">\n",
              "        \n",
              "  <svg xmlns=\"http://www.w3.org/2000/svg\" height=\"24px\"viewBox=\"0 0 24 24\"\n",
              "       width=\"24px\">\n",
              "    <path d=\"M0 0h24v24H0V0z\" fill=\"none\"/>\n",
              "    <path d=\"M18.56 5.44l.94 2.06.94-2.06 2.06-.94-2.06-.94-.94-2.06-.94 2.06-2.06.94zm-11 1L8.5 8.5l.94-2.06 2.06-.94-2.06-.94L8.5 2.5l-.94 2.06-2.06.94zm10 10l.94 2.06.94-2.06 2.06-.94-2.06-.94-.94-2.06-.94 2.06-2.06.94z\"/><path d=\"M17.41 7.96l-1.37-1.37c-.4-.4-.92-.59-1.43-.59-.52 0-1.04.2-1.43.59L10.3 9.45l-7.72 7.72c-.78.78-.78 2.05 0 2.83L4 21.41c.39.39.9.59 1.41.59.51 0 1.02-.2 1.41-.59l7.78-7.78 2.81-2.81c.8-.78.8-2.07 0-2.86zM5.41 20L4 18.59l7.72-7.72 1.47 1.35L5.41 20z\"/>\n",
              "  </svg>\n",
              "      </button>\n",
              "      \n",
              "  <style>\n",
              "    .colab-df-container {\n",
              "      display:flex;\n",
              "      flex-wrap:wrap;\n",
              "      gap: 12px;\n",
              "    }\n",
              "\n",
              "    .colab-df-convert {\n",
              "      background-color: #E8F0FE;\n",
              "      border: none;\n",
              "      border-radius: 50%;\n",
              "      cursor: pointer;\n",
              "      display: none;\n",
              "      fill: #1967D2;\n",
              "      height: 32px;\n",
              "      padding: 0 0 0 0;\n",
              "      width: 32px;\n",
              "    }\n",
              "\n",
              "    .colab-df-convert:hover {\n",
              "      background-color: #E2EBFA;\n",
              "      box-shadow: 0px 1px 2px rgba(60, 64, 67, 0.3), 0px 1px 3px 1px rgba(60, 64, 67, 0.15);\n",
              "      fill: #174EA6;\n",
              "    }\n",
              "\n",
              "    [theme=dark] .colab-df-convert {\n",
              "      background-color: #3B4455;\n",
              "      fill: #D2E3FC;\n",
              "    }\n",
              "\n",
              "    [theme=dark] .colab-df-convert:hover {\n",
              "      background-color: #434B5C;\n",
              "      box-shadow: 0px 1px 3px 1px rgba(0, 0, 0, 0.15);\n",
              "      filter: drop-shadow(0px 1px 2px rgba(0, 0, 0, 0.3));\n",
              "      fill: #FFFFFF;\n",
              "    }\n",
              "  </style>\n",
              "\n",
              "      <script>\n",
              "        const buttonEl =\n",
              "          document.querySelector('#df-190511ab-bc41-451b-a238-33d611a07113 button.colab-df-convert');\n",
              "        buttonEl.style.display =\n",
              "          google.colab.kernel.accessAllowed ? 'block' : 'none';\n",
              "\n",
              "        async function convertToInteractive(key) {\n",
              "          const element = document.querySelector('#df-190511ab-bc41-451b-a238-33d611a07113');\n",
              "          const dataTable =\n",
              "            await google.colab.kernel.invokeFunction('convertToInteractive',\n",
              "                                                     [key], {});\n",
              "          if (!dataTable) return;\n",
              "\n",
              "          const docLinkHtml = 'Like what you see? Visit the ' +\n",
              "            '<a target=\"_blank\" href=https://colab.research.google.com/notebooks/data_table.ipynb>data table notebook</a>'\n",
              "            + ' to learn more about interactive tables.';\n",
              "          element.innerHTML = '';\n",
              "          dataTable['output_type'] = 'display_data';\n",
              "          await google.colab.output.renderOutput(dataTable, element);\n",
              "          const docLink = document.createElement('div');\n",
              "          docLink.innerHTML = docLinkHtml;\n",
              "          element.appendChild(docLink);\n",
              "        }\n",
              "      </script>\n",
              "    </div>\n",
              "  </div>\n",
              "  "
            ]
          },
          "metadata": {},
          "execution_count": 12
        }
      ]
    },
    {
      "cell_type": "markdown",
      "source": [
        "## Define targets"
      ],
      "metadata": {
        "id": "tbGQcJPbCQGR"
      }
    },
    {
      "cell_type": "markdown",
      "source": [
        "### Training set"
      ],
      "metadata": {
        "id": "TKYdS5byQdWy"
      }
    },
    {
      "cell_type": "markdown",
      "source": [
        "For every block of P elements in the training set, we want to take the corresponding future *target* at position P+F.<br/>\n",
        "This prepares the data for our dataloader, which will take a random block of P elements from the training set, and expects to find the corresponding target in a second variable."
      ],
      "metadata": {
        "id": "D7ZQMSttUz6e"
      }
    },
    {
      "cell_type": "markdown",
      "source": [
        "```\n",
        "\n",
        "df:         [][][][][][][][][][][][][][][][][][][][][][][][][][][][][][][][][][]\n",
        "\n",
        "training:   [][][][][][][][][][][][][][][][][][][][]\n",
        "            [PAST]-F->[]\n",
        "                                              [PAST]-F->[]\n",
        "\n",
        "inputs:     [][][][][][][][][][][][][][][][][][][][]\n",
        "targets:              [][][][][][][][][][][][][][][][][][]\n",
        "```"
      ],
      "metadata": {
        "id": "oKzPy4ucg-uL"
      }
    },
    {
      "cell_type": "code",
      "source": [
        "input_start = 0\n",
        "input_end = N_train\n",
        "\n",
        "target_start = past + future\n",
        "target_end = N_train + future # Equivalent to: target_start + N_train - past"
      ],
      "metadata": {
        "id": "U-M9L8SiI2KO"
      },
      "execution_count": 13,
      "outputs": []
    },
    {
      "cell_type": "code",
      "source": [
        "x_train = df[input_start:input_end] # inputs\n",
        "y_train = df[target_start:target_end][['T (degC)']]  # targets"
      ],
      "metadata": {
        "id": "9fBs8haqKpCj"
      },
      "execution_count": 14,
      "outputs": []
    },
    {
      "cell_type": "code",
      "source": [
        "# Shape of the training data: 300K datapoints, with 14 variables (including temperature)\n",
        "x_train.shape"
      ],
      "metadata": {
        "colab": {
          "base_uri": "https://localhost:8080/"
        },
        "id": "Gra2CoWfLc6b",
        "outputId": "94645abd-2906-40bd-9149-5dba9a389d53"
      },
      "execution_count": 15,
      "outputs": [
        {
          "output_type": "execute_result",
          "data": {
            "text/plain": [
              "(294385, 14)"
            ]
          },
          "metadata": {},
          "execution_count": 15
        }
      ]
    },
    {
      "cell_type": "code",
      "source": [
        "# Shape of the training targets: 300K datapoints representing the temperature in the future\n",
        "y_train.shape"
      ],
      "metadata": {
        "colab": {
          "base_uri": "https://localhost:8080/"
        },
        "id": "e_8YRyRjLftE",
        "outputId": "a485cd3b-2c55-40cf-8198-1bf8664ccc17"
      },
      "execution_count": 16,
      "outputs": [
        {
          "output_type": "execute_result",
          "data": {
            "text/plain": [
              "(293665, 1)"
            ]
          },
          "metadata": {},
          "execution_count": 16
        }
      ]
    },
    {
      "cell_type": "markdown",
      "source": [
        "https://pandas.pydata.org/docs/reference/api/pandas.DataFrame.iloc.html"
      ],
      "metadata": {
        "id": "wHNRhIWBVgcL"
      }
    },
    {
      "cell_type": "markdown",
      "source": [
        "**Note:**\n",
        "* The targets are (slightly) fewer than the inputs, because they are associated to each input block, not to each input element.\n",
        "  * The difference is the length of the input block, i.e. `past`."
      ],
      "metadata": {
        "id": "AzZVzRg1VTSN"
      }
    },
    {
      "cell_type": "markdown",
      "source": [
        "### Validation set"
      ],
      "metadata": {
        "id": "vtyX4RMxQfiq"
      }
    },
    {
      "cell_type": "markdown",
      "source": [
        "For the validation set, we follow a similar line of reasoning to select a all the input blocks for which we can have a corresponding target."
      ],
      "metadata": {
        "id": "k_u6nO2Md6Vv"
      }
    },
    {
      "cell_type": "markdown",
      "source": [
        "```\n",
        "df:         [][][][][][][][][][][][][][][][][][][][][][][][][][][][][][][][][][]\n",
        "\n",
        "validation:                                         [][][][][][][][][][][][][][]\n",
        "                                                    [PAST]-F->[]\n",
        "                                                                    [PAST]-F->[]\n",
        "\n",
        "inputs:                                             [][][][][][][][][][][]\n",
        "targets:                                                      [][][][][][][][][]\n",
        "```"
      ],
      "metadata": {
        "id": "DjCj2eYtiA0M"
      }
    },
    {
      "cell_type": "code",
      "source": [
        "input_start = N_train\n",
        "input_end = len(df) - future\n",
        "\n",
        "target_start = N_train + (past+future)\n",
        "target_end = len(df)"
      ],
      "metadata": {
        "id": "SBnfMAtXbb0O"
      },
      "execution_count": 17,
      "outputs": []
    },
    {
      "cell_type": "code",
      "source": [
        "x_val = df[input_start:input_end]\n",
        "y_val = df[target_start:target_end][['T (degC)']]"
      ],
      "metadata": {
        "id": "HAveJArJQjEz"
      },
      "execution_count": 18,
      "outputs": []
    },
    {
      "cell_type": "code",
      "source": [
        "# Shape of the validation data: 100K datapoints, with 14 variables (including temperature)\n",
        "x_val.shape"
      ],
      "metadata": {
        "colab": {
          "base_uri": "https://localhost:8080/"
        },
        "id": "nHgtC0N9bwdn",
        "outputId": "a8d53332-ad95-4269-e7b7-dff311535399"
      },
      "execution_count": 19,
      "outputs": [
        {
          "output_type": "execute_result",
          "data": {
            "text/plain": [
              "(126094, 14)"
            ]
          },
          "metadata": {},
          "execution_count": 19
        }
      ]
    },
    {
      "cell_type": "code",
      "source": [
        "# Shape of the validation data: 100K datapoints representing the temperature in the future\n",
        "y_val.shape"
      ],
      "metadata": {
        "colab": {
          "base_uri": "https://localhost:8080/"
        },
        "id": "4qW9_Kfgbyn4",
        "outputId": "1b62983f-8342-4fc0-a2f8-c0f3a00896e6"
      },
      "execution_count": 20,
      "outputs": [
        {
          "output_type": "execute_result",
          "data": {
            "text/plain": [
              "(125374, 1)"
            ]
          },
          "metadata": {},
          "execution_count": 20
        }
      ]
    },
    {
      "cell_type": "markdown",
      "source": [
        "## Data loaders (+ dimensionality reduction)"
      ],
      "metadata": {
        "id": "9hAcOYGnCBbC"
      }
    },
    {
      "cell_type": "markdown",
      "source": [
        "**Note:**\n",
        "* The climate observations are recorded every 10 minutes, that means 6 times per hour.\n",
        "* We will resample one point per hour since no drastic change is expected within 60 minutes.\n",
        "* We do this via the `sampling_rate` argument in `timeseries_dataset_from_array` utility."
      ],
      "metadata": {
        "id": "C7i6gMKokoQB"
      }
    },
    {
      "cell_type": "code",
      "source": [
        "step = 6\n",
        "batch_size = 256"
      ],
      "metadata": {
        "id": "LI7NzNN8RYiP"
      },
      "execution_count": 21,
      "outputs": []
    },
    {
      "cell_type": "code",
      "source": [
        "# Recompute the 'past' length, taking into account the sampling step\n",
        "sequence_length = int(past / step)\n",
        "sequence_length"
      ],
      "metadata": {
        "colab": {
          "base_uri": "https://localhost:8080/"
        },
        "id": "-PS4lms3-i1E",
        "outputId": "5393c3e4-6c9a-412d-a074-508453a3116a"
      },
      "execution_count": 22,
      "outputs": [
        {
          "output_type": "execute_result",
          "data": {
            "text/plain": [
              "120"
            ]
          },
          "metadata": {},
          "execution_count": 22
        }
      ]
    },
    {
      "cell_type": "code",
      "source": [
        "# Training dataloader\n",
        "train_dataset = keras.preprocessing.timeseries_dataset_from_array(\n",
        "    x_train,\n",
        "    y_train,\n",
        "    sequence_length=sequence_length,\n",
        "    sampling_rate=step,\n",
        "    batch_size=batch_size,\n",
        ")"
      ],
      "metadata": {
        "id": "wKwYfzHPRPkx"
      },
      "execution_count": 23,
      "outputs": []
    },
    {
      "cell_type": "code",
      "source": [
        "# Validation dataloader\n",
        "val_dataset = keras.preprocessing.timeseries_dataset_from_array(\n",
        "    x_val,\n",
        "    y_val,\n",
        "    sequence_length=sequence_length,\n",
        "    sampling_rate=step,\n",
        "    batch_size=batch_size,\n",
        ")"
      ],
      "metadata": {
        "id": "IZeXh23oRhMp"
      },
      "execution_count": 24,
      "outputs": []
    },
    {
      "cell_type": "code",
      "source": [
        "for batch in train_dataset.take(1):\n",
        "    inputs, targets = batch\n",
        "\n",
        "# print(\"Input shape:\", inputs.numpy().shape)\n",
        "# print(\"Target shape:\", targets.numpy().shape)"
      ],
      "metadata": {
        "id": "ZiczZkoaRjta"
      },
      "execution_count": 25,
      "outputs": []
    },
    {
      "cell_type": "markdown",
      "source": [
        "**Note:**\n",
        "* We are taking one batch from the training dataset to inspect the shape of the involved data.\n",
        "  * As input we have a batch of 256 blocks, each 120-elements long, sampled with a sliding window over our original dataframe, and characterized by 14 features.\n",
        "  * As target we have, for each of the 256 blocks, an expected temperature in the future."
      ],
      "metadata": {
        "id": "ne1X232KmcVX"
      }
    },
    {
      "cell_type": "markdown",
      "source": [
        "https://keras.io/api/preprocessing/timeseries/"
      ],
      "metadata": {
        "id": "Au-_e3vlelh1"
      }
    },
    {
      "cell_type": "markdown",
      "source": [
        "# Model definition and training"
      ],
      "metadata": {
        "id": "gQRquxobRoxV"
      }
    },
    {
      "cell_type": "code",
      "source": [
        "learning_rate = 0.001\n",
        "epochs = 3"
      ],
      "metadata": {
        "id": "1orFFsJVR62t"
      },
      "execution_count": 26,
      "outputs": []
    },
    {
      "cell_type": "markdown",
      "source": [
        "## Architecture v1"
      ],
      "metadata": {
        "id": "OPuVPneFvfZe"
      }
    },
    {
      "cell_type": "code",
      "source": [
        "# Architecture definition v1\n",
        "inputs = keras.layers.Input(shape=(inputs.shape[1], inputs.shape[2]))\n",
        "x = inputs\n",
        "x = keras.layers.LSTM(1)(x)\n",
        "outputs = x\n",
        "net = keras.Model(inputs=inputs, outputs=outputs)"
      ],
      "metadata": {
        "id": "5dJPrDgsoZ35"
      },
      "execution_count": 27,
      "outputs": []
    },
    {
      "cell_type": "code",
      "source": [
        "net.compile(optimizer=keras.optimizers.Adam(learning_rate=learning_rate), loss='mse')\n",
        "net.summary()"
      ],
      "metadata": {
        "colab": {
          "base_uri": "https://localhost:8080/"
        },
        "id": "iu3aPm6Rooxp",
        "outputId": "277a8274-eb63-4651-ce74-32e6ecaaebad"
      },
      "execution_count": 28,
      "outputs": [
        {
          "output_type": "stream",
          "name": "stdout",
          "text": [
            "Model: \"model\"\n",
            "_________________________________________________________________\n",
            " Layer (type)                Output Shape              Param #   \n",
            "=================================================================\n",
            " input_1 (InputLayer)        [(None, 120, 14)]         0         \n",
            "                                                                 \n",
            " lstm (LSTM)                 (None, 1)                 64        \n",
            "                                                                 \n",
            "=================================================================\n",
            "Total params: 64\n",
            "Trainable params: 64\n",
            "Non-trainable params: 0\n",
            "_________________________________________________________________\n"
          ]
        }
      ]
    },
    {
      "cell_type": "markdown",
      "source": [
        "https://keras.io/api/layers/recurrent_layers/lstm/"
      ],
      "metadata": {
        "id": "vtqxhqIlqE0L"
      }
    },
    {
      "cell_type": "markdown",
      "source": [
        "**Note:**\n",
        "* An LSTM layer:\n",
        "  * takes as input a tensor with shape `[batch, time, feature]`\n",
        "  * returns a tensor with shape `[batch, new_feature]`"
      ],
      "metadata": {
        "id": "_22f4OKsnuXd"
      }
    },
    {
      "cell_type": "code",
      "source": [
        "history = net.fit(\n",
        "    train_dataset,\n",
        "    epochs = epochs,\n",
        "    validation_data = val_dataset,\n",
        ")"
      ],
      "metadata": {
        "colab": {
          "base_uri": "https://localhost:8080/"
        },
        "id": "g9OdwhGUoxd0",
        "outputId": "7f1bf3a5-5b16-452b-c814-0ada14ca4404"
      },
      "execution_count": 29,
      "outputs": [
        {
          "output_type": "stream",
          "name": "stdout",
          "text": [
            "Epoch 1/3\n",
            "1148/1148 [==============================] - 67s 51ms/step - loss: 0.5971 - val_loss: 0.3759\n",
            "Epoch 2/3\n",
            "1148/1148 [==============================] - 56s 49ms/step - loss: 0.4116 - val_loss: 0.3020\n",
            "Epoch 3/3\n",
            "1148/1148 [==============================] - 55s 48ms/step - loss: 0.3559 - val_loss: 0.2810\n"
          ]
        }
      ]
    },
    {
      "cell_type": "code",
      "source": [
        "plt.plot(history.history['loss'])\n",
        "plt.plot(history.history['val_loss'])\n",
        "plt.xlabel('Epoch')\n",
        "plt.ylabel('Loss')\n",
        "plt.legend(['train', 'valid'])"
      ],
      "metadata": {
        "colab": {
          "base_uri": "https://localhost:8080/",
          "height": 466
        },
        "id": "GygDpAsvnBgJ",
        "outputId": "670efadb-e818-42ec-c2d0-77b05fa45c60"
      },
      "execution_count": 30,
      "outputs": [
        {
          "output_type": "execute_result",
          "data": {
            "text/plain": [
              "<matplotlib.legend.Legend at 0x7fefed9f3be0>"
            ]
          },
          "metadata": {},
          "execution_count": 30
        },
        {
          "output_type": "display_data",
          "data": {
            "text/plain": [
              "<Figure size 640x480 with 1 Axes>"
            ],
            "image/png": "[encoded data removed]"
          },
          "metadata": {}
        }
      ]
    },
    {
      "cell_type": "markdown",
      "source": [
        "**Note:**\n",
        "* The network is learning, and additional epochs are likely to improve the performance.\n",
        "* However, the LSTM layer by default uses a `tanh` activation function, which forces the output to be between -1 and +1\n",
        "* Our data was z-score standardized, which means that it is reasonably around -1 and +1, but not strictly in that range.\n",
        "* We will now add a fully-connected layer to add complexity AND to map to an arbitrary output range."
      ],
      "metadata": {
        "id": "TUtQpbHotxx-"
      }
    },
    {
      "cell_type": "markdown",
      "source": [
        "## Architecture v2"
      ],
      "metadata": {
        "id": "kaqYbjkcvjLn"
      }
    },
    {
      "cell_type": "code",
      "source": [
        "# Architecture definition v2\n",
        "inputs = keras.layers.Input(shape=(inputs.shape[1], inputs.shape[2]))\n",
        "x = inputs\n",
        "x = keras.layers.LSTM(32)(x)\n",
        "x = keras.layers.Dense(1)(x)\n",
        "outputs = x\n",
        "net = keras.Model(inputs=inputs, outputs=outputs)"
      ],
      "metadata": {
        "id": "MmS72PZwR8FG"
      },
      "execution_count": 31,
      "outputs": []
    },
    {
      "cell_type": "code",
      "source": [
        "net.compile(optimizer=keras.optimizers.Adam(learning_rate=learning_rate), loss='mse')\n",
        "net.summary()"
      ],
      "metadata": {
        "colab": {
          "base_uri": "https://localhost:8080/"
        },
        "id": "_5NZrwpDRnl0",
        "outputId": "cb046722-0423-4f06-cbd7-62347c36a489"
      },
      "execution_count": 32,
      "outputs": [
        {
          "output_type": "stream",
          "name": "stdout",
          "text": [
            "Model: \"model_1\"\n",
            "_________________________________________________________________\n",
            " Layer (type)                Output Shape              Param #   \n",
            "=================================================================\n",
            " input_2 (InputLayer)        [(None, 120, 14)]         0         \n",
            "                                                                 \n",
            " lstm_1 (LSTM)               (None, 32)                6016      \n",
            "                                                                 \n",
            " dense (Dense)               (None, 1)                 33        \n",
            "                                                                 \n",
            "=================================================================\n",
            "Total params: 6,049\n",
            "Trainable params: 6,049\n",
            "Non-trainable params: 0\n",
            "_________________________________________________________________\n"
          ]
        }
      ]
    },
    {
      "cell_type": "code",
      "source": [
        "history = net.fit(\n",
        "    train_dataset,\n",
        "    epochs = epochs,\n",
        "    validation_data = val_dataset,\n",
        ")"
      ],
      "metadata": {
        "colab": {
          "base_uri": "https://localhost:8080/"
        },
        "id": "CCD2_-dliyT5",
        "outputId": "e97beb3a-f997-4139-f931-cc7cdcb2c7da"
      },
      "execution_count": 33,
      "outputs": [
        {
          "output_type": "stream",
          "name": "stdout",
          "text": [
            "Epoch 1/3\n",
            "1148/1148 [==============================] - 62s 52ms/step - loss: 0.1932 - val_loss: 0.1426\n",
            "Epoch 2/3\n",
            "1148/1148 [==============================] - 61s 53ms/step - loss: 0.1258 - val_loss: 0.1314\n",
            "Epoch 3/3\n",
            "1148/1148 [==============================] - 65s 56ms/step - loss: 0.1154 - val_loss: 0.1281\n"
          ]
        }
      ]
    },
    {
      "cell_type": "code",
      "source": [
        "plt.plot(history.history['loss'])\n",
        "plt.plot(history.history['val_loss'])\n",
        "plt.xlabel('Epoch')\n",
        "plt.ylabel('Loss')\n",
        "plt.legend(['train', 'valid'])"
      ],
      "metadata": {
        "colab": {
          "base_uri": "https://localhost:8080/",
          "height": 466
        },
        "id": "-Bfkh7QGBbCc",
        "outputId": "8ee5f876-a780-4a6d-d812-ca6357dcca7c"
      },
      "execution_count": 34,
      "outputs": [
        {
          "output_type": "execute_result",
          "data": {
            "text/plain": [
              "<matplotlib.legend.Legend at 0x7fefe06a8730>"
            ]
          },
          "metadata": {},
          "execution_count": 34
        },
        {
          "output_type": "display_data",
          "data": {
            "text/plain": [
              "<Figure size 640x480 with 1 Axes>"
            ],
            "image/png": "[encoded data removed]"
          },
          "metadata": {}
        }
      ]
    },
    {
      "cell_type": "markdown",
      "source": [
        "**Note:**\n",
        "* The performance has improved both for the training and validation set.\n",
        "* We start observing symptoms of overfitting in the validation set.\n",
        "* At this point, we are supposed to introduce techniques to fight the overfitting phenomenon. This excercise is left to the student.\n",
        "* For completeness, we will now instead add a second LSTM module.\n",
        "  * Note that by default an LSTM module removes the time dimension (see above summaries).\n",
        "  * If we want to stack multiple LSTMs, we must force them to preserve the time dimension using `return_sequences=True`."
      ],
      "metadata": {
        "id": "LboHRWMLuqMV"
      }
    },
    {
      "cell_type": "markdown",
      "source": [
        "## Architecture v3"
      ],
      "metadata": {
        "id": "NDAEjbRrvkln"
      }
    },
    {
      "cell_type": "code",
      "source": [
        "# Architecture definition v3\n",
        "inputs = keras.layers.Input(shape=(inputs.shape[1], inputs.shape[2]))\n",
        "x = inputs\n",
        "x = keras.layers.LSTM(32, return_sequences=True)(x)\n",
        "x = keras.layers.LSTM(32)(x)\n",
        "x = keras.layers.Dense(1)(x)\n",
        "outputs = x\n",
        "net = keras.Model(inputs=inputs, outputs=outputs)"
      ],
      "metadata": {
        "id": "kdMnCTnrpnE9"
      },
      "execution_count": 35,
      "outputs": []
    },
    {
      "cell_type": "code",
      "source": [
        "net.compile(optimizer=keras.optimizers.Adam(learning_rate=learning_rate), loss='mse')\n",
        "net.summary()"
      ],
      "metadata": {
        "colab": {
          "base_uri": "https://localhost:8080/"
        },
        "id": "SGGZsilGqfTm",
        "outputId": "445f1517-0aa5-4d62-feb8-d4337c8ca050"
      },
      "execution_count": 36,
      "outputs": [
        {
          "output_type": "stream",
          "name": "stdout",
          "text": [
            "Model: \"model_2\"\n",
            "_________________________________________________________________\n",
            " Layer (type)                Output Shape              Param #   \n",
            "=================================================================\n",
            " input_3 (InputLayer)        [(None, 120, 14)]         0         \n",
            "                                                                 \n",
            " lstm_2 (LSTM)               (None, 120, 32)           6016      \n",
            "                                                                 \n",
            " lstm_3 (LSTM)               (None, 32)                8320      \n",
            "                                                                 \n",
            " dense_1 (Dense)             (None, 1)                 33        \n",
            "                                                                 \n",
            "=================================================================\n",
            "Total params: 14,369\n",
            "Trainable params: 14,369\n",
            "Non-trainable params: 0\n",
            "_________________________________________________________________\n"
          ]
        }
      ]
    },
    {
      "cell_type": "code",
      "source": [
        "history = net.fit(\n",
        "    train_dataset,\n",
        "    epochs = epochs,\n",
        "    validation_data = val_dataset,\n",
        ")"
      ],
      "metadata": {
        "colab": {
          "base_uri": "https://localhost:8080/"
        },
        "id": "lfz80R6Zqbut",
        "outputId": "696def86-48d7-458c-b3fd-cb7f9d9b74bc"
      },
      "execution_count": 37,
      "outputs": [
        {
          "output_type": "stream",
          "name": "stdout",
          "text": [
            "Epoch 1/3\n",
            "1148/1148 [==============================] - 72s 59ms/step - loss: 0.1773 - val_loss: 0.1437\n",
            "Epoch 2/3\n",
            "1148/1148 [==============================] - 67s 59ms/step - loss: 0.1285 - val_loss: 0.1519\n",
            "Epoch 3/3\n",
            "1148/1148 [==============================] - 66s 58ms/step - loss: 0.1171 - val_loss: 0.1464\n"
          ]
        }
      ]
    },
    {
      "cell_type": "code",
      "source": [
        "plt.plot(history.history['loss'])\n",
        "plt.plot(history.history['val_loss'])\n",
        "plt.xlabel('Epoch')\n",
        "plt.ylabel('Loss')\n",
        "plt.legend(['train', 'valid'])"
      ],
      "metadata": {
        "colab": {
          "base_uri": "https://localhost:8080/",
          "height": 470
        },
        "id": "6iaIALLIqiR3",
        "outputId": "6ed40010-1e23-4c52-ce91-17ae856bbcbc"
      },
      "execution_count": 38,
      "outputs": [
        {
          "output_type": "execute_result",
          "data": {
            "text/plain": [
              "<matplotlib.legend.Legend at 0x7fefcc742d30>"
            ]
          },
          "metadata": {},
          "execution_count": 38
        },
        {
          "output_type": "display_data",
          "data": {
            "text/plain": [
              "<Figure size 640x480 with 1 Axes>"
            ],
            "image/png": "[encoded data removed]"
          },
          "metadata": {}
        }
      ]
    },
    {
      "cell_type": "markdown",
      "source": [
        "**Note:**\n",
        "* As expected, the increased complexity has made the overfitting even worse."
      ],
      "metadata": {
        "id": "ghY8erwqvVJg"
      }
    },
    {
      "cell_type": "markdown",
      "source": [
        "## Verify output"
      ],
      "metadata": {
        "id": "PPg1Mfz3EK2t"
      }
    },
    {
      "cell_type": "markdown",
      "source": [
        "We can fetch an input-target pair from the validation dataset and visually judge the estimation results"
      ],
      "metadata": {
        "id": "ovMHB2LyqwNe"
      }
    },
    {
      "cell_type": "code",
      "source": [
        "for batch in val_dataset.take(1):\n",
        "    inputs, targets = batch"
      ],
      "metadata": {
        "id": "-TLhlae_EPsu"
      },
      "execution_count": 39,
      "outputs": []
    },
    {
      "cell_type": "code",
      "source": [
        "out = net.predict(inputs[0,None])"
      ],
      "metadata": {
        "id": "6_iA8Y4hHUoK",
        "colab": {
          "base_uri": "https://localhost:8080/"
        },
        "outputId": "65c2512a-6013-4e20-a9bf-5836ae97a1f2"
      },
      "execution_count": 40,
      "outputs": [
        {
          "output_type": "stream",
          "name": "stdout",
          "text": [
            "1/1 [==============================] - 1s 657ms/step\n"
          ]
        }
      ]
    },
    {
      "cell_type": "code",
      "source": [
        "plt.plot(inputs[0,:,1])\n",
        "plt.plot(120+12, targets[0], 'rx', markersize=10)\n",
        "plt.plot(120+12, out[0], 'go', markersize=10)"
      ],
      "metadata": {
        "colab": {
          "base_uri": "https://localhost:8080/",
          "height": 447
        },
        "id": "X-_qQ_UaHdz5",
        "outputId": "51a51272-bc09-4da8-f5f4-8e26ee4f5d2d"
      },
      "execution_count": 41,
      "outputs": [
        {
          "output_type": "execute_result",
          "data": {
            "text/plain": [
              "[<matplotlib.lines.Line2D at 0x7fefcc51b160>]"
            ]
          },
          "metadata": {},
          "execution_count": 41
        },
        {
          "output_type": "display_data",
          "data": {
            "text/plain": [
              "<Figure size 640x480 with 1 Axes>"
            ],
            "image/png": "[encoded data removed]"
          },
          "metadata": {}
        }
      ]
    },
    {
      "cell_type": "markdown",
      "source": [
        "# Resources"
      ],
      "metadata": {
        "id": "bMIUeo9C6Hhn"
      }
    },
    {
      "cell_type": "markdown",
      "source": [
        "https://keras.io/examples/timeseries/timeseries_weather_forecasting/"
      ],
      "metadata": {
        "id": "DYEYBGnrvtTE"
      }
    }
  ]
}